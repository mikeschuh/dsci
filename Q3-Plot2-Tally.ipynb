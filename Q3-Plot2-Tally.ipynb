{
 "cells": [
  {
   "cell_type": "code",
   "execution_count": 9,
   "metadata": {
    "collapsed": false
   },
   "outputs": [
    {
     "data": {
      "text/html": [
       "\n",
       "    <div class=\"bk-root\">\n",
       "        <a href=\"http://bokeh.pydata.org\" target=\"_blank\" class=\"bk-logo bk-logo-small bk-logo-notebook\"></a>\n",
       "        <span id=\"865be480-af36-4549-ac07-e837244224ed\">Loading BokehJS ...</span>\n",
       "    </div>"
      ]
     },
     "metadata": {},
     "output_type": "display_data"
    },
    {
     "data": {
      "application/javascript": [
       "\n",
       "(function(global) {\n",
       "  function now() {\n",
       "    return new Date();\n",
       "  }\n",
       "\n",
       "  if (typeof (window._bokeh_onload_callbacks) === \"undefined\") {\n",
       "    window._bokeh_onload_callbacks = [];\n",
       "  }\n",
       "\n",
       "  function run_callbacks() {\n",
       "    window._bokeh_onload_callbacks.forEach(function(callback) { callback() });\n",
       "    delete window._bokeh_onload_callbacks\n",
       "    console.info(\"Bokeh: all callbacks have finished\");\n",
       "  }\n",
       "\n",
       "  function load_libs(js_urls, callback) {\n",
       "    window._bokeh_onload_callbacks.push(callback);\n",
       "    if (window._bokeh_is_loading > 0) {\n",
       "      console.log(\"Bokeh: BokehJS is being loaded, scheduling callback at\", now());\n",
       "      return null;\n",
       "    }\n",
       "    if (js_urls == null || js_urls.length === 0) {\n",
       "      run_callbacks();\n",
       "      return null;\n",
       "    }\n",
       "    console.log(\"Bokeh: BokehJS not loaded, scheduling load and callback at\", now());\n",
       "    window._bokeh_is_loading = js_urls.length;\n",
       "    for (var i = 0; i < js_urls.length; i++) {\n",
       "      var url = js_urls[i];\n",
       "      var s = document.createElement('script');\n",
       "      s.src = url;\n",
       "      s.async = false;\n",
       "      s.onreadystatechange = s.onload = function() {\n",
       "        window._bokeh_is_loading--;\n",
       "        if (window._bokeh_is_loading === 0) {\n",
       "          console.log(\"Bokeh: all BokehJS libraries loaded\");\n",
       "          run_callbacks()\n",
       "        }\n",
       "      };\n",
       "      s.onerror = function() {\n",
       "        console.warn(\"failed to load library \" + url);\n",
       "      };\n",
       "      console.log(\"Bokeh: injecting script tag for BokehJS library: \", url);\n",
       "      document.getElementsByTagName(\"head\")[0].appendChild(s);\n",
       "    }\n",
       "  };\n",
       "\n",
       "  var js_urls = ['https://cdn.pydata.org/bokeh/release/bokeh-0.12.0.min.js', 'https://cdn.pydata.org/bokeh/release/bokeh-widgets-0.12.0.min.js', 'https://cdn.pydata.org/bokeh/release/bokeh-compiler-0.12.0.min.js'];\n",
       "\n",
       "  var inline_js = [\n",
       "    function(Bokeh) {\n",
       "      Bokeh.set_log_level(\"info\");\n",
       "    },\n",
       "    \n",
       "    function(Bokeh) {\n",
       "      Bokeh.$(\"#865be480-af36-4549-ac07-e837244224ed\").text(\"BokehJS successfully loaded\");\n",
       "    },\n",
       "    function(Bokeh) {\n",
       "      console.log(\"Bokeh: injecting CSS: https://cdn.pydata.org/bokeh/release/bokeh-0.12.0.min.css\");\n",
       "      Bokeh.embed.inject_css(\"https://cdn.pydata.org/bokeh/release/bokeh-0.12.0.min.css\");\n",
       "      console.log(\"Bokeh: injecting CSS: https://cdn.pydata.org/bokeh/release/bokeh-widgets-0.12.0.min.css\");\n",
       "      Bokeh.embed.inject_css(\"https://cdn.pydata.org/bokeh/release/bokeh-widgets-0.12.0.min.css\");\n",
       "    }\n",
       "  ];\n",
       "\n",
       "  function run_inline_js() {\n",
       "    for (var i = 0; i < inline_js.length; i++) {\n",
       "      inline_js[i](window.Bokeh);\n",
       "    }\n",
       "  }\n",
       "\n",
       "  if (window._bokeh_is_loading === 0) {\n",
       "    console.log(\"Bokeh: BokehJS loaded, going straight to plotting\");\n",
       "    run_inline_js();\n",
       "  } else {\n",
       "    load_libs(js_urls, function() {\n",
       "      console.log(\"Bokeh: BokehJS plotting callback run at\", now());\n",
       "      run_inline_js();\n",
       "    });\n",
       "  }\n",
       "}(this));"
      ]
     },
     "metadata": {},
     "output_type": "display_data"
    }
   ],
   "source": [
    "import pandas as pd\n",
    "import numpy as np\n",
    "import matplotlib.pyplot as plt\n",
    "from bokeh.plotting import figure, output_notebook, show\n",
    "\n",
    "output_notebook()"
   ]
  },
  {
   "cell_type": "code",
   "execution_count": 10,
   "metadata": {
    "collapsed": false
   },
   "outputs": [],
   "source": [
    "fname = \"Food_Inspections.csv\"\n",
    "df = pd.read_csv(fname)"
   ]
  },
  {
   "cell_type": "code",
   "execution_count": 12,
   "metadata": {
    "collapsed": false
   },
   "outputs": [
    {
     "name": "stdout",
     "output_type": "stream",
     "text": [
      "828\n"
     ]
    }
   ],
   "source": [
    "\n",
    "#take first 1000\n",
    "vs = df['Violations'].tolist()[:1000]\n",
    "\n",
    "all_vslist = []\n",
    "for i in range(len(vs)):\n",
    "    vslist = []\n",
    "    if pd.isnull(vs[i]):\n",
    "        continue\n",
    "    #print(vs[i])\n",
    "    vsi = [x.strip() for x in vs[i].split('|')]\n",
    "    for j in range(len(vsi)):\n",
    "        vsij = vsi[j].split('.')[0]\n",
    "        vslist.append(vsij)\n",
    "    all_vslist.append(vslist)\n",
    "    #pdb.set_trace()\n",
    "\n",
    "#print(all_vslist)\n",
    "print(len(all_vslist))"
   ]
  },
  {
   "cell_type": "code",
   "execution_count": 14,
   "metadata": {
    "collapsed": false
   },
   "outputs": [
    {
     "data": {
      "text/html": [
       "<div>\n",
       "<table border=\"1\" class=\"dataframe\">\n",
       "  <thead>\n",
       "    <tr style=\"text-align: right;\">\n",
       "      <th></th>\n",
       "      <th>count</th>\n",
       "    </tr>\n",
       "  </thead>\n",
       "  <tbody>\n",
       "    <tr>\n",
       "      <th>count</th>\n",
       "      <td>41.000000</td>\n",
       "    </tr>\n",
       "    <tr>\n",
       "      <th>mean</th>\n",
       "      <td>90.170732</td>\n",
       "    </tr>\n",
       "    <tr>\n",
       "      <th>std</th>\n",
       "      <td>127.248949</td>\n",
       "    </tr>\n",
       "    <tr>\n",
       "      <th>min</th>\n",
       "      <td>1.000000</td>\n",
       "    </tr>\n",
       "    <tr>\n",
       "      <th>25%</th>\n",
       "      <td>8.000000</td>\n",
       "    </tr>\n",
       "    <tr>\n",
       "      <th>50%</th>\n",
       "      <td>43.000000</td>\n",
       "    </tr>\n",
       "    <tr>\n",
       "      <th>75%</th>\n",
       "      <td>94.000000</td>\n",
       "    </tr>\n",
       "    <tr>\n",
       "      <th>max</th>\n",
       "      <td>489.000000</td>\n",
       "    </tr>\n",
       "  </tbody>\n",
       "</table>\n",
       "</div>"
      ],
      "text/plain": [
       "            count\n",
       "count   41.000000\n",
       "mean    90.170732\n",
       "std    127.248949\n",
       "min      1.000000\n",
       "25%      8.000000\n",
       "50%     43.000000\n",
       "75%     94.000000\n",
       "max    489.000000"
      ]
     },
     "execution_count": 14,
     "metadata": {},
     "output_type": "execute_result"
    }
   ],
   "source": [
    "\n",
    "tallies = dict()\n",
    "for vslist in all_vslist:\n",
    "    for v in vslist:\n",
    "        if v not in tallies.keys():\n",
    "            tallies[v] = 1\n",
    "        else:\n",
    "            tallies[v] += 1\n",
    "            \n",
    "#print(tallies)\n",
    "\n",
    "df = pd.DataFrame({'count': tallies})\n",
    "df.describe()\n",
    "#print(df.index)"
   ]
  },
  {
   "cell_type": "code",
   "execution_count": 8,
   "metadata": {
    "collapsed": false
   },
   "outputs": [
    {
     "name": "stdout",
     "output_type": "stream",
     "text": [
      "[4, 1, 3, 7, 6, 3, 2, 6, 5, 8, 4, 2, 6, 5, 9, 4, 4, 4, 6, 6, 2, 2, 1, 2, 3, 1, 2, 3, 5, 5, 4, 4, 2, 2, 9, 5, 7, 6, 3, 3, 3, 4, 9, 3, 6, 1, 4, 7, 6, 9, 2, 3, 9, 1, 6, 6, 3, 2, 1, 10, 3, 2, 2, 4, 8, 7, 4, 9, 4, 11, 3, 8, 2, 11, 6, 1, 3, 1, 2, 5, 6, 2, 5, 3, 3, 2, 6, 1, 9, 1, 1, 4, 4, 4, 5, 4, 5, 2, 3, 7, 3, 5, 3, 2, 3, 7, 10, 2, 7, 7, 1, 2, 1, 2, 5, 2, 1, 2, 10, 3, 5, 6, 8, 6, 4, 1, 3, 5, 5, 8, 2, 7, 3, 2, 7, 3, 4, 4, 1, 7, 4, 10, 4, 5, 3, 6, 4, 3, 8, 3, 1, 1, 13, 12, 6, 3, 4, 6, 1, 6, 7, 4, 1, 7, 1, 2, 1, 5, 3, 2, 4, 4, 5, 1, 5, 3, 2, 5, 3, 3, 4, 8, 5, 4, 1, 5, 3, 7, 4, 5, 4, 2, 3, 7, 8, 2, 5, 6, 2, 5, 2, 1, 1, 7, 6, 4, 7, 6, 2, 10, 8, 6, 8, 2, 3, 8, 3, 5, 9, 8, 6, 5, 1, 3, 3, 4, 2, 3, 4, 3, 4, 9, 8, 9, 9, 3, 2, 10, 5, 2, 2, 6, 1, 3, 6, 7, 3, 1, 7, 13, 7, 3, 2, 3, 6, 1, 9, 8, 13, 1, 6, 3, 4, 3, 8, 4, 2, 5, 3, 5, 6, 6, 2, 4, 3, 2, 6, 3, 3, 2, 5, 3, 1, 2, 1, 4, 4, 2, 6, 6, 2, 2, 2, 2, 2, 2, 5, 5, 7, 5, 4, 7, 6, 8, 4, 5, 2, 6, 4, 5, 4, 5, 3, 8, 6, 3, 4, 1, 1, 2, 1, 3, 5, 3, 9, 3, 2, 4, 2, 4, 3, 2, 3, 2, 3, 2, 2, 8, 9, 9, 5, 5, 5, 1, 4, 4, 7, 9, 6, 2, 3, 1, 6, 1, 4, 5, 9, 2, 2, 1, 6, 2, 2, 5, 1, 3, 3, 12, 2, 6, 2, 5, 3, 3, 1, 2, 6, 3, 7, 5, 3, 2, 3, 1, 12, 6, 3, 9, 3, 2, 5, 9, 4, 2, 4, 6, 3, 11, 1, 4, 3, 2, 2, 5, 3, 2, 4, 8, 1, 2, 6, 3, 4, 4, 3, 4, 3, 6, 7, 1, 5, 11, 8, 8, 6, 3, 4, 11, 5, 3, 6, 1, 4, 4, 5, 15, 2, 3, 5, 13, 8, 5, 4, 1, 5, 4, 6, 2, 4, 4, 4, 9, 3, 2, 5, 7, 8, 3, 3, 4, 7, 2, 4, 2, 6, 5, 5, 2, 9, 6, 4, 5, 2, 2, 3, 2, 3, 4, 4, 7, 6, 4, 3, 3, 5, 4, 4, 10, 2, 2, 3, 9, 4, 2, 6, 1, 2, 12, 6, 3, 3, 1, 3, 5, 1, 8, 4, 1, 1, 1, 4, 4, 2, 2, 5, 4, 3, 2, 3, 2, 3, 6, 7, 1, 3, 4, 7, 9, 6, 13, 1, 4, 8, 3, 9, 4, 9, 1, 6, 5, 6, 13, 6, 3, 10, 6, 7, 2, 8, 10, 2, 1, 2, 5, 8, 1, 6, 3, 1, 6, 13, 2, 3, 2, 4, 11, 4, 3, 4, 8, 2, 3, 1, 3, 4, 1, 2, 6, 2, 1, 3, 1, 2, 2, 6, 5, 2, 4, 1, 2, 1, 5, 7, 11, 2, 12, 12, 5, 8, 3, 6, 8, 6, 5, 2, 4, 1, 7, 2, 1, 5, 2, 3, 3, 5, 3, 3, 2, 8, 4, 3, 8, 3, 2, 5, 8, 2, 5, 4, 8, 5, 5, 6, 3, 3, 11, 7, 3, 1, 1, 10, 7, 4, 4, 1, 5, 5, 7, 1, 5, 1, 6, 4, 1, 4, 7, 3, 10, 1, 2, 1, 4, 2, 7, 6, 6, 7, 7, 6, 5, 11, 2, 6, 5, 2, 2, 4, 13, 6, 4, 14, 1, 4, 12, 5, 6, 1, 2, 6, 2, 1, 11, 4, 5, 7, 2, 4, 4, 5, 4, 11, 3, 1, 4, 8, 8, 2, 1, 3, 2, 4, 4, 5, 5, 2, 1, 6, 1, 5, 3, 6, 3, 7, 2, 2, 6, 9, 5, 7, 2, 5, 9, 1, 6, 4, 5, 5, 3, 1, 12, 12, 2, 8, 3, 6, 1, 5, 4, 5, 2, 2, 4, 5, 4, 2, 6, 4, 9, 1, 4, 2, 4, 8, 7, 4, 2, 4, 7, 2, 9, 14, 1, 7, 3, 9, 3, 6, 2, 3, 6, 4, 8, 6, 10, 2, 5, 1, 1, 13, 6, 3, 2, 5, 6, 3, 4, 3, 7, 1, 6, 3, 3, 8, 4, 3, 12, 7, 6, 1, 1, 1, 6, 7, 5, 6, 1, 7, 2, 1, 3, 6, 4, 4, 2, 5, 2, 5, 4]\n"
     ]
    },
    {
     "data": {
      "text/html": [
       "\n",
       "\n",
       "    <div class=\"bk-root\">\n",
       "        <div class=\"plotdiv\" id=\"ba7d189f-c08b-48b5-94db-1950bfe5e7aa\"></div>\n",
       "    </div>\n",
       "<script type=\"text/javascript\">\n",
       "  \n",
       "  (function(global) {\n",
       "    function now() {\n",
       "      return new Date();\n",
       "    }\n",
       "  \n",
       "    if (typeof (window._bokeh_onload_callbacks) === \"undefined\") {\n",
       "      window._bokeh_onload_callbacks = [];\n",
       "    }\n",
       "  \n",
       "    function run_callbacks() {\n",
       "      window._bokeh_onload_callbacks.forEach(function(callback) { callback() });\n",
       "      delete window._bokeh_onload_callbacks\n",
       "      console.info(\"Bokeh: all callbacks have finished\");\n",
       "    }\n",
       "  \n",
       "    function load_libs(js_urls, callback) {\n",
       "      window._bokeh_onload_callbacks.push(callback);\n",
       "      if (window._bokeh_is_loading > 0) {\n",
       "        console.log(\"Bokeh: BokehJS is being loaded, scheduling callback at\", now());\n",
       "        return null;\n",
       "      }\n",
       "      if (js_urls == null || js_urls.length === 0) {\n",
       "        run_callbacks();\n",
       "        return null;\n",
       "      }\n",
       "      console.log(\"Bokeh: BokehJS not loaded, scheduling load and callback at\", now());\n",
       "      window._bokeh_is_loading = js_urls.length;\n",
       "      for (var i = 0; i < js_urls.length; i++) {\n",
       "        var url = js_urls[i];\n",
       "        var s = document.createElement('script');\n",
       "        s.src = url;\n",
       "        s.async = false;\n",
       "        s.onreadystatechange = s.onload = function() {\n",
       "          window._bokeh_is_loading--;\n",
       "          if (window._bokeh_is_loading === 0) {\n",
       "            console.log(\"Bokeh: all BokehJS libraries loaded\");\n",
       "            run_callbacks()\n",
       "          }\n",
       "        };\n",
       "        s.onerror = function() {\n",
       "          console.warn(\"failed to load library \" + url);\n",
       "        };\n",
       "        console.log(\"Bokeh: injecting script tag for BokehJS library: \", url);\n",
       "        document.getElementsByTagName(\"head\")[0].appendChild(s);\n",
       "      }\n",
       "    };var element = document.getElementById(\"ba7d189f-c08b-48b5-94db-1950bfe5e7aa\");\n",
       "    if (element == null) {\n",
       "      console.log(\"Bokeh: ERROR: autoload.js configured with elementid 'ba7d189f-c08b-48b5-94db-1950bfe5e7aa' but no matching script tag was found. \")\n",
       "      return false;\n",
       "    }\n",
       "  \n",
       "    var js_urls = [];\n",
       "  \n",
       "    var inline_js = [\n",
       "      function(Bokeh) {\n",
       "        Bokeh.$(function() {\n",
       "            var docs_json = {\"628c7d28-5e33-47b2-a058-bf43c2262f92\":{\"roots\":{\"references\":[{\"attributes\":{\"callback\":null,\"column_names\":[\"color\",\"label\",\"line_alpha\",\"height\",\"fill_alpha\",\"y\",\"x\",\"line_color\",\"width\"],\"data\":{\"chart_index\":[\"(6.8, 7.6]\"],\"color\":[\"#f22c40\"],\"fill_alpha\":[0.8],\"height\":[50.0],\"label\":[\"(6.8, 7.6]\"],\"line_alpha\":[1.0],\"line_color\":[\"black\"],\"width\":[0.8235294117647056],\"x\":[\"7.199999999999999\"],\"y\":[25.0]}},\"id\":\"9b885228-1100-400f-9330-c5a75805c812\",\"type\":\"ColumnDataSource\"},{\"attributes\":{\"callback\":null,\"column_names\":[\"color\",\"label\",\"line_alpha\",\"height\",\"fill_alpha\",\"y\",\"x\",\"line_color\",\"width\"],\"data\":{\"chart_index\":[\"(5.1, 5.9]\"],\"color\":[\"#f22c40\"],\"fill_alpha\":[0.8],\"height\":[0.0],\"label\":[\"(5.1, 5.9]\"],\"line_alpha\":[1.0],\"line_color\":[\"black\"],\"width\":[0.8235294117647065],\"x\":[\"5.5\"],\"y\":[0.0]}},\"id\":\"e42e88fe-90d9-4b50-a9d6-9e0608ea0b90\",\"type\":\"ColumnDataSource\"},{\"attributes\":{\"data_source\":{\"id\":\"9b885228-1100-400f-9330-c5a75805c812\",\"type\":\"ColumnDataSource\"},\"glyph\":{\"id\":\"a2fe16ea-3ba5-48c2-a44a-93ad2bdc847d\",\"type\":\"Rect\"},\"hover_glyph\":null,\"nonselection_glyph\":null,\"selection_glyph\":null},\"id\":\"210bc8ea-bf01-4520-9083-9d3f5da63135\",\"type\":\"GlyphRenderer\"},{\"attributes\":{},\"id\":\"a99f9dad-eed3-477c-a0cd-fcc1b4e2c713\",\"type\":\"BasicTickFormatter\"},{\"attributes\":{\"data_source\":{\"id\":\"e42e88fe-90d9-4b50-a9d6-9e0608ea0b90\",\"type\":\"ColumnDataSource\"},\"glyph\":{\"id\":\"207c8236-4756-4882-9e94-49289a86d403\",\"type\":\"Rect\"},\"hover_glyph\":null,\"nonselection_glyph\":null,\"selection_glyph\":null},\"id\":\"a2feb9c1-53fd-4234-bcd9-d67b0bdbad09\",\"type\":\"GlyphRenderer\"},{\"attributes\":{\"fill_alpha\":{\"field\":\"fill_alpha\"},\"fill_color\":{\"field\":\"color\"},\"height\":{\"field\":\"height\",\"units\":\"data\"},\"line_color\":{\"field\":\"line_color\"},\"width\":{\"field\":\"width\",\"units\":\"data\"},\"x\":{\"field\":\"x\"},\"y\":{\"field\":\"y\"}},\"id\":\"48777212-3e7b-4894-bd28-5affc0fadf38\",\"type\":\"Rect\"},{\"attributes\":{\"plot\":{\"id\":\"59bd5a0b-c606-4b1b-b643-cf84823e8a58\",\"subtype\":\"Chart\",\"type\":\"Plot\"}},\"id\":\"d304cdf2-9d43-4fab-8a57-92eecece0ce9\",\"type\":\"SaveTool\"},{\"attributes\":{\"data_source\":{\"id\":\"cdd95085-73ae-46a2-af20-01c7be73635f\",\"type\":\"ColumnDataSource\"},\"glyph\":{\"id\":\"805629d4-12fc-46a3-bfe6-bbbfe6e66294\",\"type\":\"Rect\"},\"hover_glyph\":null,\"nonselection_glyph\":null,\"selection_glyph\":null},\"id\":\"983ec52d-f7b5-436a-a130-3da38ad95cdd\",\"type\":\"GlyphRenderer\"},{\"attributes\":{\"plot\":{\"id\":\"59bd5a0b-c606-4b1b-b643-cf84823e8a58\",\"subtype\":\"Chart\",\"type\":\"Plot\"}},\"id\":\"d0f12abc-d1ef-44f4-b5e7-4cbd604090c1\",\"type\":\"HelpTool\"},{\"attributes\":{\"fill_alpha\":{\"field\":\"fill_alpha\"},\"fill_color\":{\"field\":\"color\"},\"height\":{\"field\":\"height\",\"units\":\"data\"},\"line_color\":{\"field\":\"line_color\"},\"width\":{\"field\":\"width\",\"units\":\"data\"},\"x\":{\"field\":\"x\"},\"y\":{\"field\":\"y\"}},\"id\":\"207c8236-4756-4882-9e94-49289a86d403\",\"type\":\"Rect\"},{\"attributes\":{\"data_source\":{\"id\":\"3c1bd7b2-35d5-49dc-999b-4d289d46a6dd\",\"type\":\"ColumnDataSource\"},\"glyph\":{\"id\":\"53f1f485-78bc-45dd-a165-a0778d5456c9\",\"type\":\"Rect\"},\"hover_glyph\":null,\"nonselection_glyph\":null,\"selection_glyph\":null},\"id\":\"d15c981a-f20a-4f00-b0ab-0827b313586c\",\"type\":\"GlyphRenderer\"},{\"attributes\":{\"callback\":null,\"column_names\":[\"color\",\"label\",\"line_alpha\",\"height\",\"fill_alpha\",\"y\",\"x\",\"line_color\",\"width\"],\"data\":{\"chart_index\":[\"(14.2, 15.0]\"],\"color\":[\"#f22c40\"],\"fill_alpha\":[0.8],\"height\":[1.0],\"label\":[\"(14.2, 15.0]\"],\"line_alpha\":[1.0],\"line_color\":[\"black\"],\"width\":[0.8235294117647065],\"x\":[\"14.6\"],\"y\":[0.5]}},\"id\":\"dc14f3f3-5d18-4ef8-a64a-b636fd71afce\",\"type\":\"ColumnDataSource\"},{\"attributes\":{\"callback\":null,\"column_names\":[\"color\",\"label\",\"line_alpha\",\"height\",\"fill_alpha\",\"y\",\"x\",\"line_color\",\"width\"],\"data\":{\"chart_index\":[\"(1.8, 2.6]\"],\"color\":[\"#f22c40\"],\"fill_alpha\":[0.8],\"height\":[137.0],\"label\":[\"(1.8, 2.6]\"],\"line_alpha\":[1.0],\"line_color\":[\"black\"],\"width\":[0.8235294117647058],\"x\":[\"2.2\"],\"y\":[68.5]}},\"id\":\"3712b93f-b6d1-4ff5-bbb4-f4a60f020251\",\"type\":\"ColumnDataSource\"},{\"attributes\":{\"fill_alpha\":{\"field\":\"fill_alpha\"},\"fill_color\":{\"field\":\"color\"},\"height\":{\"field\":\"height\",\"units\":\"data\"},\"line_color\":{\"field\":\"line_color\"},\"width\":{\"field\":\"width\",\"units\":\"data\"},\"x\":{\"field\":\"x\"},\"y\":{\"field\":\"y\"}},\"id\":\"ef93ad23-9001-450f-afc7-e050a25399df\",\"type\":\"Rect\"},{\"attributes\":{\"below\":[{\"id\":\"c8f25a86-27ee-4cc3-ad6d-ff7b3f61eed6\",\"type\":\"LinearAxis\"}],\"left\":[{\"id\":\"021c7749-da26-48c0-82b7-dd9e145a57e2\",\"type\":\"LinearAxis\"}],\"renderers\":[{\"id\":\"c7780712-3419-47fa-8af2-f2615185da2a\",\"type\":\"BoxAnnotation\"},{\"id\":\"ae7913d6-c294-4879-a59e-ab82597ce175\",\"type\":\"GlyphRenderer\"},{\"id\":\"1d7c2cc7-172d-4ef9-8ea6-52ed5a0d94bd\",\"type\":\"GlyphRenderer\"},{\"id\":\"a7e28e96-56d4-4d3e-a859-8e25f7ba9749\",\"type\":\"GlyphRenderer\"},{\"id\":\"e3589942-32c7-4435-8919-4e0461187c12\",\"type\":\"GlyphRenderer\"},{\"id\":\"983ec52d-f7b5-436a-a130-3da38ad95cdd\",\"type\":\"GlyphRenderer\"},{\"id\":\"a2feb9c1-53fd-4234-bcd9-d67b0bdbad09\",\"type\":\"GlyphRenderer\"},{\"id\":\"42e8dfc2-c2f3-4295-8f41-58aba973722a\",\"type\":\"GlyphRenderer\"},{\"id\":\"210bc8ea-bf01-4520-9083-9d3f5da63135\",\"type\":\"GlyphRenderer\"},{\"id\":\"7b4f504f-8f57-4946-bebe-1a71ebc1ed3d\",\"type\":\"GlyphRenderer\"},{\"id\":\"d15c981a-f20a-4f00-b0ab-0827b313586c\",\"type\":\"GlyphRenderer\"},{\"id\":\"f74451d1-7b9f-4e56-9082-c495728ec91e\",\"type\":\"GlyphRenderer\"},{\"id\":\"0c3a048c-aedd-43ac-b7c6-934dfc9036bf\",\"type\":\"GlyphRenderer\"},{\"id\":\"2041fbd5-d7b3-4b78-9421-6c3d0505eb3a\",\"type\":\"GlyphRenderer\"},{\"id\":\"c50125ac-d69c-4e6c-b440-b098562bd3c5\",\"type\":\"GlyphRenderer\"},{\"id\":\"f978257f-f8dd-41c5-9227-e3404bdb86cb\",\"type\":\"GlyphRenderer\"},{\"id\":\"f6b5ed00-1a41-4b17-8ec1-5a2bb9044665\",\"type\":\"GlyphRenderer\"},{\"id\":\"37e5daa5-9d9b-4682-9194-060045cd4737\",\"type\":\"GlyphRenderer\"},{\"id\":\"2b3db59e-2a8b-47c9-8ec2-39d68e49aa13\",\"type\":\"Legend\"},{\"id\":\"c8f25a86-27ee-4cc3-ad6d-ff7b3f61eed6\",\"type\":\"LinearAxis\"},{\"id\":\"021c7749-da26-48c0-82b7-dd9e145a57e2\",\"type\":\"LinearAxis\"},{\"id\":\"2fcdc04c-7d21-4243-8e34-92ab9550b04f\",\"type\":\"Grid\"}],\"title\":{\"id\":\"21933609-4b3f-40ef-bf5a-fe2ea172838b\",\"type\":\"Title\"},\"tool_events\":{\"id\":\"bf41bfc9-3f70-4b6e-9c26-233523d33296\",\"type\":\"ToolEvents\"},\"toolbar\":{\"id\":\"66b722c1-e66c-44c1-ab03-b17c8419a03a\",\"type\":\"Toolbar\"},\"x_mapper_type\":\"auto\",\"x_range\":{\"id\":\"76cdb7fa-0b3f-428b-93b4-aab82b354361\",\"type\":\"Range1d\"},\"y_mapper_type\":\"auto\",\"y_range\":{\"id\":\"b6a6d0d9-b274-4a3d-a6cb-f3de6917cefe\",\"type\":\"Range1d\"}},\"id\":\"59bd5a0b-c606-4b1b-b643-cf84823e8a58\",\"subtype\":\"Chart\",\"type\":\"Plot\"},{\"attributes\":{\"fill_alpha\":{\"field\":\"fill_alpha\"},\"fill_color\":{\"field\":\"color\"},\"height\":{\"field\":\"height\",\"units\":\"data\"},\"line_color\":{\"field\":\"line_color\"},\"width\":{\"field\":\"width\",\"units\":\"data\"},\"x\":{\"field\":\"x\"},\"y\":{\"field\":\"y\"}},\"id\":\"43f2389f-92a6-423f-8e21-5e68b8d25307\",\"type\":\"Rect\"},{\"attributes\":{\"fill_alpha\":{\"field\":\"fill_alpha\"},\"fill_color\":{\"field\":\"color\"},\"height\":{\"field\":\"height\",\"units\":\"data\"},\"line_color\":{\"field\":\"line_color\"},\"width\":{\"field\":\"width\",\"units\":\"data\"},\"x\":{\"field\":\"x\"},\"y\":{\"field\":\"y\"}},\"id\":\"a653f7d4-c969-4126-85ae-2841e22a3d6a\",\"type\":\"Rect\"},{\"attributes\":{\"callback\":null,\"column_names\":[\"color\",\"label\",\"line_alpha\",\"height\",\"fill_alpha\",\"y\",\"x\",\"line_color\",\"width\"],\"data\":{\"chart_index\":[\"(7.6, 8.4]\"],\"color\":[\"#f22c40\"],\"fill_alpha\":[0.8],\"height\":[40.0],\"label\":[\"(7.6, 8.4]\"],\"line_alpha\":[1.0],\"line_color\":[\"black\"],\"width\":[0.8235294117647047],\"x\":[\"8.0\"],\"y\":[20.0]}},\"id\":\"a3ca5c83-cdca-4b7d-81d7-0b8b3a9f4c52\",\"type\":\"ColumnDataSource\"},{\"attributes\":{\"callback\":null,\"column_names\":[\"color\",\"label\",\"line_alpha\",\"height\",\"fill_alpha\",\"y\",\"x\",\"line_color\",\"width\"],\"data\":{\"chart_index\":[\"(10.1, 10.9]\"],\"color\":[\"#f22c40\"],\"fill_alpha\":[0.8],\"height\":[0.0],\"label\":[\"(10.1, 10.9]\"],\"line_alpha\":[1.0],\"line_color\":[\"black\"],\"width\":[0.8235294117647065],\"x\":[\"10.5\"],\"y\":[0.0]}},\"id\":\"4a5cc64a-0cc0-419c-956c-c2b7db40ddca\",\"type\":\"ColumnDataSource\"},{\"attributes\":{\"plot\":{\"id\":\"59bd5a0b-c606-4b1b-b643-cf84823e8a58\",\"subtype\":\"Chart\",\"type\":\"Plot\"}},\"id\":\"fde51007-c0a0-495a-a9c2-71d249505250\",\"type\":\"ResetTool\"},{\"attributes\":{\"callback\":null,\"column_names\":[\"color\",\"label\",\"line_alpha\",\"height\",\"fill_alpha\",\"y\",\"x\",\"line_color\",\"width\"],\"data\":{\"chart_index\":[\"(5.9, 6.8]\"],\"color\":[\"#f22c40\"],\"fill_alpha\":[0.8],\"height\":[90.0],\"label\":[\"(5.9, 6.8]\"],\"line_alpha\":[1.0],\"line_color\":[\"black\"],\"width\":[0.8235294117647056],\"x\":[\"6.35\"],\"y\":[45.0]}},\"id\":\"6c7972b3-5092-4887-a043-0b55a3c06460\",\"type\":\"ColumnDataSource\"},{\"attributes\":{\"fill_alpha\":{\"field\":\"fill_alpha\"},\"fill_color\":{\"field\":\"color\"},\"height\":{\"field\":\"height\",\"units\":\"data\"},\"line_color\":{\"field\":\"line_color\"},\"width\":{\"field\":\"width\",\"units\":\"data\"},\"x\":{\"field\":\"x\"},\"y\":{\"field\":\"y\"}},\"id\":\"277ef09d-1e66-4f84-937c-714d35cf9087\",\"type\":\"Rect\"},{\"attributes\":{\"axis_label\":\"a\",\"formatter\":{\"id\":\"a99f9dad-eed3-477c-a0cd-fcc1b4e2c713\",\"type\":\"BasicTickFormatter\"},\"plot\":{\"id\":\"59bd5a0b-c606-4b1b-b643-cf84823e8a58\",\"subtype\":\"Chart\",\"type\":\"Plot\"},\"ticker\":{\"id\":\"a3dbff1e-4f64-4983-be6f-2d8a383de7bf\",\"type\":\"BasicTicker\"}},\"id\":\"c8f25a86-27ee-4cc3-ad6d-ff7b3f61eed6\",\"type\":\"LinearAxis\"},{\"attributes\":{\"data_source\":{\"id\":\"ed2cc869-1835-42ad-a464-90d54fa912d3\",\"type\":\"ColumnDataSource\"},\"glyph\":{\"id\":\"667833ee-df4d-44fe-b308-03291b76a8ac\",\"type\":\"Rect\"},\"hover_glyph\":null,\"nonselection_glyph\":null,\"selection_glyph\":null},\"id\":\"f6b5ed00-1a41-4b17-8ec1-5a2bb9044665\",\"type\":\"GlyphRenderer\"},{\"attributes\":{\"data_source\":{\"id\":\"4a5cc64a-0cc0-419c-956c-c2b7db40ddca\",\"type\":\"ColumnDataSource\"},\"glyph\":{\"id\":\"4182c10c-f755-4349-a802-580ea580fac2\",\"type\":\"Rect\"},\"hover_glyph\":null,\"nonselection_glyph\":null,\"selection_glyph\":null},\"id\":\"0c3a048c-aedd-43ac-b7c6-934dfc9036bf\",\"type\":\"GlyphRenderer\"},{\"attributes\":{\"bottom_units\":\"screen\",\"fill_alpha\":{\"value\":0.5},\"fill_color\":{\"value\":\"lightgrey\"},\"left_units\":\"screen\",\"level\":\"overlay\",\"line_alpha\":{\"value\":1.0},\"line_color\":{\"value\":\"black\"},\"line_dash\":[4,4],\"line_width\":{\"value\":2},\"plot\":null,\"render_mode\":\"css\",\"right_units\":\"screen\",\"top_units\":\"screen\"},\"id\":\"c7780712-3419-47fa-8af2-f2615185da2a\",\"type\":\"BoxAnnotation\"},{\"attributes\":{\"data_source\":{\"id\":\"6c7972b3-5092-4887-a043-0b55a3c06460\",\"type\":\"ColumnDataSource\"},\"glyph\":{\"id\":\"48777212-3e7b-4894-bd28-5affc0fadf38\",\"type\":\"Rect\"},\"hover_glyph\":null,\"nonselection_glyph\":null,\"selection_glyph\":null},\"id\":\"42e8dfc2-c2f3-4295-8f41-58aba973722a\",\"type\":\"GlyphRenderer\"},{\"attributes\":{\"callback\":null,\"column_names\":[\"color\",\"label\",\"line_alpha\",\"height\",\"fill_alpha\",\"y\",\"x\",\"line_color\",\"width\"],\"data\":{\"chart_index\":[\"[1.0, 1.8]\"],\"color\":[\"#f22c40\"],\"fill_alpha\":[0.8],\"height\":[96.0],\"label\":[\"[1.0, 1.8]\"],\"line_alpha\":[1.0],\"line_color\":[\"black\"],\"width\":[0.8235294117647058],\"x\":[\"1.4\"],\"y\":[48.0]}},\"id\":\"513a4df5-88c6-4afc-8695-63e617946155\",\"type\":\"ColumnDataSource\"},{\"attributes\":{\"callback\":null,\"column_names\":[\"color\",\"label\",\"line_alpha\",\"height\",\"fill_alpha\",\"y\",\"x\",\"line_color\",\"width\"],\"data\":{\"chart_index\":[\"(3.5, 4.3]\"],\"color\":[\"#f22c40\"],\"fill_alpha\":[0.8],\"height\":[118.0],\"label\":[\"(3.5, 4.3]\"],\"line_alpha\":[1.0],\"line_color\":[\"black\"],\"width\":[0.8235294117647056],\"x\":[\"3.9\"],\"y\":[59.0]}},\"id\":\"d1708ab0-8893-4316-9006-dbab85835f50\",\"type\":\"ColumnDataSource\"},{\"attributes\":{\"callback\":null,\"column_names\":[\"color\",\"label\",\"line_alpha\",\"height\",\"fill_alpha\",\"y\",\"x\",\"line_color\",\"width\"],\"data\":{\"chart_index\":[\"(12.5, 13.4]\"],\"color\":[\"#f22c40\"],\"fill_alpha\":[0.8],\"height\":[9.0],\"label\":[\"(12.5, 13.4]\"],\"line_alpha\":[1.0],\"line_color\":[\"black\"],\"width\":[0.8235294117647047],\"x\":[\"12.95\"],\"y\":[4.5]}},\"id\":\"c5b4461b-4da6-4c73-8e88-c79c106dc91f\",\"type\":\"ColumnDataSource\"},{\"attributes\":{\"fill_alpha\":{\"field\":\"fill_alpha\"},\"fill_color\":{\"field\":\"color\"},\"height\":{\"field\":\"height\",\"units\":\"data\"},\"line_color\":{\"field\":\"line_color\"},\"width\":{\"field\":\"width\",\"units\":\"data\"},\"x\":{\"field\":\"x\"},\"y\":{\"field\":\"y\"}},\"id\":\"4182c10c-f755-4349-a802-580ea580fac2\",\"type\":\"Rect\"},{\"attributes\":{\"data_source\":{\"id\":\"4e1e35d4-72c4-4e0b-9dac-040bb6b5d6d7\",\"type\":\"ColumnDataSource\"},\"glyph\":{\"id\":\"05d33e1b-bbd5-4156-809d-bde13ec28af9\",\"type\":\"Rect\"},\"hover_glyph\":null,\"nonselection_glyph\":null,\"selection_glyph\":null},\"id\":\"a7e28e96-56d4-4d3e-a859-8e25f7ba9749\",\"type\":\"GlyphRenderer\"},{\"attributes\":{\"callback\":null,\"column_names\":[\"color\",\"label\",\"line_alpha\",\"height\",\"fill_alpha\",\"y\",\"x\",\"line_color\",\"width\"],\"data\":{\"chart_index\":[\"(10.9, 11.7]\"],\"color\":[\"#f22c40\"],\"fill_alpha\":[0.8],\"height\":[11.0],\"label\":[\"(10.9, 11.7]\"],\"line_alpha\":[1.0],\"line_color\":[\"black\"],\"width\":[0.8235294117647047],\"x\":[\"11.3\"],\"y\":[5.5]}},\"id\":\"7e6d6882-2be7-4f7a-813b-72962d829bb7\",\"type\":\"ColumnDataSource\"},{\"attributes\":{\"fill_alpha\":{\"field\":\"fill_alpha\"},\"fill_color\":{\"field\":\"color\"},\"height\":{\"field\":\"height\",\"units\":\"data\"},\"line_color\":{\"field\":\"line_color\"},\"width\":{\"field\":\"width\",\"units\":\"data\"},\"x\":{\"field\":\"x\"},\"y\":{\"field\":\"y\"}},\"id\":\"05d33e1b-bbd5-4156-809d-bde13ec28af9\",\"type\":\"Rect\"},{\"attributes\":{\"callback\":null,\"column_names\":[\"color\",\"label\",\"line_alpha\",\"height\",\"fill_alpha\",\"y\",\"x\",\"line_color\",\"width\"],\"data\":{\"chart_index\":[\"(4.3, 5.1]\"],\"color\":[\"#f22c40\"],\"fill_alpha\":[0.8],\"height\":[94.0],\"label\":[\"(4.3, 5.1]\"],\"line_alpha\":[1.0],\"line_color\":[\"black\"],\"width\":[0.8235294117647056],\"x\":[\"4.699999999999999\"],\"y\":[47.0]}},\"id\":\"cdd95085-73ae-46a2-af20-01c7be73635f\",\"type\":\"ColumnDataSource\"},{\"attributes\":{\"dimension\":1,\"plot\":{\"id\":\"59bd5a0b-c606-4b1b-b643-cf84823e8a58\",\"subtype\":\"Chart\",\"type\":\"Plot\"},\"ticker\":{\"id\":\"9e28790f-0f3c-4c38-87f3-b12fbd076a01\",\"type\":\"BasicTicker\"}},\"id\":\"2fcdc04c-7d21-4243-8e34-92ab9550b04f\",\"type\":\"Grid\"},{\"attributes\":{\"fill_alpha\":{\"field\":\"fill_alpha\"},\"fill_color\":{\"field\":\"color\"},\"height\":{\"field\":\"height\",\"units\":\"data\"},\"line_color\":{\"field\":\"line_color\"},\"width\":{\"field\":\"width\",\"units\":\"data\"},\"x\":{\"field\":\"x\"},\"y\":{\"field\":\"y\"}},\"id\":\"667833ee-df4d-44fe-b308-03291b76a8ac\",\"type\":\"Rect\"},{\"attributes\":{\"fill_alpha\":{\"field\":\"fill_alpha\"},\"fill_color\":{\"field\":\"color\"},\"height\":{\"field\":\"height\",\"units\":\"data\"},\"line_color\":{\"field\":\"line_color\"},\"width\":{\"field\":\"width\",\"units\":\"data\"},\"x\":{\"field\":\"x\"},\"y\":{\"field\":\"y\"}},\"id\":\"805629d4-12fc-46a3-bfe6-bbbfe6e66294\",\"type\":\"Rect\"},{\"attributes\":{\"callback\":null,\"end\":15.411764705882353,\"start\":0.588235294117647},\"id\":\"76cdb7fa-0b3f-428b-93b4-aab82b354361\",\"type\":\"Range1d\"},{\"attributes\":{\"data_source\":{\"id\":\"03fc563d-69de-4a3f-8020-4ee708ab7206\",\"type\":\"ColumnDataSource\"},\"glyph\":{\"id\":\"ef93ad23-9001-450f-afc7-e050a25399df\",\"type\":\"Rect\"},\"hover_glyph\":null,\"nonselection_glyph\":null,\"selection_glyph\":null},\"id\":\"f74451d1-7b9f-4e56-9082-c495728ec91e\",\"type\":\"GlyphRenderer\"},{\"attributes\":{\"fill_alpha\":{\"field\":\"fill_alpha\"},\"fill_color\":{\"field\":\"color\"},\"height\":{\"field\":\"height\",\"units\":\"data\"},\"line_color\":{\"field\":\"line_color\"},\"width\":{\"field\":\"width\",\"units\":\"data\"},\"x\":{\"field\":\"x\"},\"y\":{\"field\":\"y\"}},\"id\":\"53f1f485-78bc-45dd-a165-a0778d5456c9\",\"type\":\"Rect\"},{\"attributes\":{\"callback\":null,\"end\":150.70000000000002},\"id\":\"b6a6d0d9-b274-4a3d-a6cb-f3de6917cefe\",\"type\":\"Range1d\"},{\"attributes\":{\"active_drag\":\"auto\",\"active_scroll\":\"auto\",\"active_tap\":\"auto\",\"tools\":[{\"id\":\"26ae541d-0e70-48fc-a2f7-bea4442ba66c\",\"type\":\"PanTool\"},{\"id\":\"c568a0f6-cc52-449e-9f2b-273e1cf29ea2\",\"type\":\"WheelZoomTool\"},{\"id\":\"111626fa-1db4-4d68-9676-c13b59913a35\",\"type\":\"BoxZoomTool\"},{\"id\":\"d304cdf2-9d43-4fab-8a57-92eecece0ce9\",\"type\":\"SaveTool\"},{\"id\":\"fde51007-c0a0-495a-a9c2-71d249505250\",\"type\":\"ResetTool\"},{\"id\":\"d0f12abc-d1ef-44f4-b5e7-4cbd604090c1\",\"type\":\"HelpTool\"}]},\"id\":\"66b722c1-e66c-44c1-ab03-b17c8419a03a\",\"type\":\"Toolbar\"},{\"attributes\":{\"fill_alpha\":{\"field\":\"fill_alpha\"},\"fill_color\":{\"field\":\"color\"},\"height\":{\"field\":\"height\",\"units\":\"data\"},\"line_color\":{\"field\":\"line_color\"},\"width\":{\"field\":\"width\",\"units\":\"data\"},\"x\":{\"field\":\"x\"},\"y\":{\"field\":\"y\"}},\"id\":\"b521f4b7-e9bf-4b4f-8235-1b6f91695598\",\"type\":\"Rect\"},{\"attributes\":{},\"id\":\"f33cf845-e63b-4349-97a4-e204b640a069\",\"type\":\"BasicTickFormatter\"},{\"attributes\":{\"location\":\"top_left\",\"plot\":{\"id\":\"59bd5a0b-c606-4b1b-b643-cf84823e8a58\",\"subtype\":\"Chart\",\"type\":\"Plot\"}},\"id\":\"2b3db59e-2a8b-47c9-8ec2-39d68e49aa13\",\"type\":\"Legend\"},{\"attributes\":{\"data_source\":{\"id\":\"3712b93f-b6d1-4ff5-bbb4-f4a60f020251\",\"type\":\"ColumnDataSource\"},\"glyph\":{\"id\":\"47247d68-70d2-42dd-b28a-2418bb91e8db\",\"type\":\"Rect\"},\"hover_glyph\":null,\"nonselection_glyph\":null,\"selection_glyph\":null},\"id\":\"1d7c2cc7-172d-4ef9-8ea6-52ed5a0d94bd\",\"type\":\"GlyphRenderer\"},{\"attributes\":{\"callback\":null,\"column_names\":[\"color\",\"label\",\"line_alpha\",\"height\",\"fill_alpha\",\"y\",\"x\",\"line_color\",\"width\"],\"data\":{\"chart_index\":[\"(8.4, 9.2]\"],\"color\":[\"#f22c40\"],\"fill_alpha\":[0.8],\"height\":[30.0],\"label\":[\"(8.4, 9.2]\"],\"line_alpha\":[1.0],\"line_color\":[\"black\"],\"width\":[0.8235294117647065],\"x\":[\"8.8\"],\"y\":[15.0]}},\"id\":\"3c1bd7b2-35d5-49dc-999b-4d289d46a6dd\",\"type\":\"ColumnDataSource\"},{\"attributes\":{\"data_source\":{\"id\":\"d1708ab0-8893-4316-9006-dbab85835f50\",\"type\":\"ColumnDataSource\"},\"glyph\":{\"id\":\"50cb9ac3-e2cf-44a1-a5a2-858cb3912085\",\"type\":\"Rect\"},\"hover_glyph\":null,\"nonselection_glyph\":null,\"selection_glyph\":null},\"id\":\"e3589942-32c7-4435-8919-4e0461187c12\",\"type\":\"GlyphRenderer\"},{\"attributes\":{\"data_source\":{\"id\":\"a3ca5c83-cdca-4b7d-81d7-0b8b3a9f4c52\",\"type\":\"ColumnDataSource\"},\"glyph\":{\"id\":\"f00f9ecc-6766-48e5-9ffd-a72c2216084d\",\"type\":\"Rect\"},\"hover_glyph\":null,\"nonselection_glyph\":null,\"selection_glyph\":null},\"id\":\"7b4f504f-8f57-4946-bebe-1a71ebc1ed3d\",\"type\":\"GlyphRenderer\"},{\"attributes\":{\"fill_alpha\":{\"field\":\"fill_alpha\"},\"fill_color\":{\"field\":\"color\"},\"height\":{\"field\":\"height\",\"units\":\"data\"},\"line_color\":{\"field\":\"line_color\"},\"width\":{\"field\":\"width\",\"units\":\"data\"},\"x\":{\"field\":\"x\"},\"y\":{\"field\":\"y\"}},\"id\":\"a2fe16ea-3ba5-48c2-a44a-93ad2bdc847d\",\"type\":\"Rect\"},{\"attributes\":{\"callback\":null,\"column_names\":[\"color\",\"label\",\"line_alpha\",\"height\",\"fill_alpha\",\"y\",\"x\",\"line_color\",\"width\"],\"data\":{\"chart_index\":[\"(13.4, 14.2]\"],\"color\":[\"#f22c40\"],\"fill_alpha\":[0.8],\"height\":[2.0],\"label\":[\"(13.4, 14.2]\"],\"line_alpha\":[1.0],\"line_color\":[\"black\"],\"width\":[0.8235294117647065],\"x\":[\"13.8\"],\"y\":[1.0]}},\"id\":\"ed2cc869-1835-42ad-a464-90d54fa912d3\",\"type\":\"ColumnDataSource\"},{\"attributes\":{\"fill_alpha\":{\"field\":\"fill_alpha\"},\"fill_color\":{\"field\":\"color\"},\"height\":{\"field\":\"height\",\"units\":\"data\"},\"line_color\":{\"field\":\"line_color\"},\"width\":{\"field\":\"width\",\"units\":\"data\"},\"x\":{\"field\":\"x\"},\"y\":{\"field\":\"y\"}},\"id\":\"47247d68-70d2-42dd-b28a-2418bb91e8db\",\"type\":\"Rect\"},{\"attributes\":{\"axis_label\":\"Count( A )\",\"formatter\":{\"id\":\"f33cf845-e63b-4349-97a4-e204b640a069\",\"type\":\"BasicTickFormatter\"},\"plot\":{\"id\":\"59bd5a0b-c606-4b1b-b643-cf84823e8a58\",\"subtype\":\"Chart\",\"type\":\"Plot\"},\"ticker\":{\"id\":\"9e28790f-0f3c-4c38-87f3-b12fbd076a01\",\"type\":\"BasicTicker\"}},\"id\":\"021c7749-da26-48c0-82b7-dd9e145a57e2\",\"type\":\"LinearAxis\"},{\"attributes\":{\"data_source\":{\"id\":\"513a4df5-88c6-4afc-8695-63e617946155\",\"type\":\"ColumnDataSource\"},\"glyph\":{\"id\":\"2c0c59af-c17a-47f1-85a5-ffe76c51501d\",\"type\":\"Rect\"},\"hover_glyph\":null,\"nonselection_glyph\":null,\"selection_glyph\":null},\"id\":\"ae7913d6-c294-4879-a59e-ab82597ce175\",\"type\":\"GlyphRenderer\"},{\"attributes\":{\"plot\":{\"id\":\"59bd5a0b-c606-4b1b-b643-cf84823e8a58\",\"subtype\":\"Chart\",\"type\":\"Plot\"}},\"id\":\"26ae541d-0e70-48fc-a2f7-bea4442ba66c\",\"type\":\"PanTool\"},{\"attributes\":{\"plot\":null,\"text\":\"MPG Distribution\"},\"id\":\"21933609-4b3f-40ef-bf5a-fe2ea172838b\",\"type\":\"Title\"},{\"attributes\":{\"data_source\":{\"id\":\"dc14f3f3-5d18-4ef8-a64a-b636fd71afce\",\"type\":\"ColumnDataSource\"},\"glyph\":{\"id\":\"a653f7d4-c969-4126-85ae-2841e22a3d6a\",\"type\":\"Rect\"},\"hover_glyph\":null,\"nonselection_glyph\":null,\"selection_glyph\":null},\"id\":\"37e5daa5-9d9b-4682-9194-060045cd4737\",\"type\":\"GlyphRenderer\"},{\"attributes\":{\"data_source\":{\"id\":\"b3cc7a2f-00ba-424d-a3ca-912ed9ff4901\",\"type\":\"ColumnDataSource\"},\"glyph\":{\"id\":\"b521f4b7-e9bf-4b4f-8235-1b6f91695598\",\"type\":\"Rect\"},\"hover_glyph\":null,\"nonselection_glyph\":null,\"selection_glyph\":null},\"id\":\"c50125ac-d69c-4e6c-b440-b098562bd3c5\",\"type\":\"GlyphRenderer\"},{\"attributes\":{},\"id\":\"a3dbff1e-4f64-4983-be6f-2d8a383de7bf\",\"type\":\"BasicTicker\"},{\"attributes\":{},\"id\":\"9e28790f-0f3c-4c38-87f3-b12fbd076a01\",\"type\":\"BasicTicker\"},{\"attributes\":{\"data_source\":{\"id\":\"7e6d6882-2be7-4f7a-813b-72962d829bb7\",\"type\":\"ColumnDataSource\"},\"glyph\":{\"id\":\"277ef09d-1e66-4f84-937c-714d35cf9087\",\"type\":\"Rect\"},\"hover_glyph\":null,\"nonselection_glyph\":null,\"selection_glyph\":null},\"id\":\"2041fbd5-d7b3-4b78-9421-6c3d0505eb3a\",\"type\":\"GlyphRenderer\"},{\"attributes\":{\"callback\":null,\"column_names\":[\"color\",\"label\",\"line_alpha\",\"height\",\"fill_alpha\",\"y\",\"x\",\"line_color\",\"width\"],\"data\":{\"chart_index\":[\"(9.2, 10.1]\"],\"color\":[\"#f22c40\"],\"fill_alpha\":[0.8],\"height\":[12.0],\"label\":[\"(9.2, 10.1]\"],\"line_alpha\":[1.0],\"line_color\":[\"black\"],\"width\":[0.8235294117647065],\"x\":[\"9.649999999999999\"],\"y\":[6.0]}},\"id\":\"03fc563d-69de-4a3f-8020-4ee708ab7206\",\"type\":\"ColumnDataSource\"},{\"attributes\":{\"fill_alpha\":{\"field\":\"fill_alpha\"},\"fill_color\":{\"field\":\"color\"},\"height\":{\"field\":\"height\",\"units\":\"data\"},\"line_color\":{\"field\":\"line_color\"},\"width\":{\"field\":\"width\",\"units\":\"data\"},\"x\":{\"field\":\"x\"},\"y\":{\"field\":\"y\"}},\"id\":\"50cb9ac3-e2cf-44a1-a5a2-858cb3912085\",\"type\":\"Rect\"},{\"attributes\":{\"fill_alpha\":{\"field\":\"fill_alpha\"},\"fill_color\":{\"field\":\"color\"},\"height\":{\"field\":\"height\",\"units\":\"data\"},\"line_color\":{\"field\":\"line_color\"},\"width\":{\"field\":\"width\",\"units\":\"data\"},\"x\":{\"field\":\"x\"},\"y\":{\"field\":\"y\"}},\"id\":\"2c0c59af-c17a-47f1-85a5-ffe76c51501d\",\"type\":\"Rect\"},{\"attributes\":{\"fill_alpha\":{\"field\":\"fill_alpha\"},\"fill_color\":{\"field\":\"color\"},\"height\":{\"field\":\"height\",\"units\":\"data\"},\"line_color\":{\"field\":\"line_color\"},\"width\":{\"field\":\"width\",\"units\":\"data\"},\"x\":{\"field\":\"x\"},\"y\":{\"field\":\"y\"}},\"id\":\"f00f9ecc-6766-48e5-9ffd-a72c2216084d\",\"type\":\"Rect\"},{\"attributes\":{},\"id\":\"bf41bfc9-3f70-4b6e-9c26-233523d33296\",\"type\":\"ToolEvents\"},{\"attributes\":{\"plot\":{\"id\":\"59bd5a0b-c606-4b1b-b643-cf84823e8a58\",\"subtype\":\"Chart\",\"type\":\"Plot\"}},\"id\":\"c568a0f6-cc52-449e-9f2b-273e1cf29ea2\",\"type\":\"WheelZoomTool\"},{\"attributes\":{\"callback\":null,\"column_names\":[\"color\",\"label\",\"line_alpha\",\"height\",\"fill_alpha\",\"y\",\"x\",\"line_color\",\"width\"],\"data\":{\"chart_index\":[\"(2.6, 3.5]\"],\"color\":[\"#f22c40\"],\"fill_alpha\":[0.8],\"height\":[128.0],\"label\":[\"(2.6, 3.5]\"],\"line_alpha\":[1.0],\"line_color\":[\"black\"],\"width\":[0.8235294117647061],\"x\":[\"3.05\"],\"y\":[64.0]}},\"id\":\"4e1e35d4-72c4-4e0b-9dac-040bb6b5d6d7\",\"type\":\"ColumnDataSource\"},{\"attributes\":{\"data_source\":{\"id\":\"c5b4461b-4da6-4c73-8e88-c79c106dc91f\",\"type\":\"ColumnDataSource\"},\"glyph\":{\"id\":\"43f2389f-92a6-423f-8e21-5e68b8d25307\",\"type\":\"Rect\"},\"hover_glyph\":null,\"nonselection_glyph\":null,\"selection_glyph\":null},\"id\":\"f978257f-f8dd-41c5-9227-e3404bdb86cb\",\"type\":\"GlyphRenderer\"},{\"attributes\":{\"callback\":null,\"column_names\":[\"color\",\"label\",\"line_alpha\",\"height\",\"fill_alpha\",\"y\",\"x\",\"line_color\",\"width\"],\"data\":{\"chart_index\":[\"(11.7, 12.5]\"],\"color\":[\"#f22c40\"],\"fill_alpha\":[0.8],\"height\":[10.0],\"label\":[\"(11.7, 12.5]\"],\"line_alpha\":[1.0],\"line_color\":[\"black\"],\"width\":[0.8235294117647065],\"x\":[\"12.1\"],\"y\":[5.0]}},\"id\":\"b3cc7a2f-00ba-424d-a3ca-912ed9ff4901\",\"type\":\"ColumnDataSource\"},{\"attributes\":{\"overlay\":{\"id\":\"c7780712-3419-47fa-8af2-f2615185da2a\",\"type\":\"BoxAnnotation\"},\"plot\":{\"id\":\"59bd5a0b-c606-4b1b-b643-cf84823e8a58\",\"subtype\":\"Chart\",\"type\":\"Plot\"}},\"id\":\"111626fa-1db4-4d68-9676-c13b59913a35\",\"type\":\"BoxZoomTool\"}],\"root_ids\":[\"59bd5a0b-c606-4b1b-b643-cf84823e8a58\"]},\"title\":\"Bokeh Application\",\"version\":\"0.12.0\"}};\n",
       "            var render_items = [{\"docid\":\"628c7d28-5e33-47b2-a058-bf43c2262f92\",\"elementid\":\"ba7d189f-c08b-48b5-94db-1950bfe5e7aa\",\"modelid\":\"59bd5a0b-c606-4b1b-b643-cf84823e8a58\",\"notebook_comms_target\":\"23f52395-19cc-4916-8362-9f63c8cf07bc\"}];\n",
       "            \n",
       "            Bokeh.embed.embed_items(docs_json, render_items);\n",
       "        });\n",
       "      },\n",
       "      function(Bokeh) {\n",
       "      }\n",
       "    ];\n",
       "  \n",
       "    function run_inline_js() {\n",
       "      for (var i = 0; i < inline_js.length; i++) {\n",
       "        inline_js[i](window.Bokeh);\n",
       "      }\n",
       "    }\n",
       "  \n",
       "    if (window._bokeh_is_loading === 0) {\n",
       "      console.log(\"Bokeh: BokehJS loaded, going straight to plotting\");\n",
       "      run_inline_js();\n",
       "    } else {\n",
       "      load_libs(js_urls, function() {\n",
       "        console.log(\"Bokeh: BokehJS plotting callback run at\", now());\n",
       "        run_inline_js();\n",
       "      });\n",
       "    }\n",
       "  }(this));\n",
       "</script>"
      ]
     },
     "metadata": {},
     "output_type": "display_data"
    },
    {
     "data": {
      "text/html": [
       "<p><code>&lt;Bokeh Notebook handle for <strong>In[8]</strong>&gt;</code></p>"
      ],
      "text/plain": [
       "<bokeh.io._CommsHandle at 0x7fc4100d7a58>"
      ]
     },
     "execution_count": 8,
     "metadata": {},
     "output_type": "execute_result"
    }
   ],
   "source": [
    "from bokeh.charts import Bar, output_file, show\n",
    "\n",
    "\n",
    "p = Bar(df,values='count',legend=None)\n",
    "show(p)"
   ]
  },
  {
   "cell_type": "code",
   "execution_count": 28,
   "metadata": {
    "collapsed": false
   },
   "outputs": [],
   "source": []
  },
  {
   "cell_type": "code",
   "execution_count": 7,
   "metadata": {
    "collapsed": false
   },
   "outputs": [
    {
     "data": {
      "text/html": [
       "\n",
       "\n",
       "    <div class=\"bk-root\">\n",
       "        <div class=\"plotdiv\" id=\"073b413a-d5c2-4a13-b2cc-d06985fec498\"></div>\n",
       "    </div>\n",
       "<script type=\"text/javascript\">\n",
       "  \n",
       "  (function(global) {\n",
       "    function now() {\n",
       "      return new Date();\n",
       "    }\n",
       "  \n",
       "    if (typeof (window._bokeh_onload_callbacks) === \"undefined\") {\n",
       "      window._bokeh_onload_callbacks = [];\n",
       "    }\n",
       "  \n",
       "    function run_callbacks() {\n",
       "      window._bokeh_onload_callbacks.forEach(function(callback) { callback() });\n",
       "      delete window._bokeh_onload_callbacks\n",
       "      console.info(\"Bokeh: all callbacks have finished\");\n",
       "    }\n",
       "  \n",
       "    function load_libs(js_urls, callback) {\n",
       "      window._bokeh_onload_callbacks.push(callback);\n",
       "      if (window._bokeh_is_loading > 0) {\n",
       "        console.log(\"Bokeh: BokehJS is being loaded, scheduling callback at\", now());\n",
       "        return null;\n",
       "      }\n",
       "      if (js_urls == null || js_urls.length === 0) {\n",
       "        run_callbacks();\n",
       "        return null;\n",
       "      }\n",
       "      console.log(\"Bokeh: BokehJS not loaded, scheduling load and callback at\", now());\n",
       "      window._bokeh_is_loading = js_urls.length;\n",
       "      for (var i = 0; i < js_urls.length; i++) {\n",
       "        var url = js_urls[i];\n",
       "        var s = document.createElement('script');\n",
       "        s.src = url;\n",
       "        s.async = false;\n",
       "        s.onreadystatechange = s.onload = function() {\n",
       "          window._bokeh_is_loading--;\n",
       "          if (window._bokeh_is_loading === 0) {\n",
       "            console.log(\"Bokeh: all BokehJS libraries loaded\");\n",
       "            run_callbacks()\n",
       "          }\n",
       "        };\n",
       "        s.onerror = function() {\n",
       "          console.warn(\"failed to load library \" + url);\n",
       "        };\n",
       "        console.log(\"Bokeh: injecting script tag for BokehJS library: \", url);\n",
       "        document.getElementsByTagName(\"head\")[0].appendChild(s);\n",
       "      }\n",
       "    };var element = document.getElementById(\"073b413a-d5c2-4a13-b2cc-d06985fec498\");\n",
       "    if (element == null) {\n",
       "      console.log(\"Bokeh: ERROR: autoload.js configured with elementid '073b413a-d5c2-4a13-b2cc-d06985fec498' but no matching script tag was found. \")\n",
       "      return false;\n",
       "    }\n",
       "  \n",
       "    var js_urls = [];\n",
       "  \n",
       "    var inline_js = [\n",
       "      function(Bokeh) {\n",
       "        Bokeh.$(function() {\n",
       "            var docs_json = {\"b8749037-af5f-4f5b-aac0-d32ffe62e563\":{\"roots\":{\"references\":[{\"attributes\":{\"fill_alpha\":{\"field\":\"fill_alpha\"},\"fill_color\":{\"field\":\"color\"},\"height\":{\"field\":\"height\",\"units\":\"data\"},\"line_color\":{\"field\":\"line_color\"},\"width\":{\"field\":\"width\",\"units\":\"data\"},\"x\":{\"field\":\"x\"},\"y\":{\"field\":\"y\"}},\"id\":\"89f661b1-6270-4664-821e-fe2577e3fece\",\"type\":\"Rect\"},{\"attributes\":{\"active_drag\":\"auto\",\"active_scroll\":\"auto\",\"active_tap\":\"auto\",\"tools\":[{\"id\":\"f3d54985-f3e5-44c8-a54c-0a840f99d835\",\"type\":\"PanTool\"},{\"id\":\"d1dd6ea8-e212-489f-aa05-94fa148b9668\",\"type\":\"WheelZoomTool\"},{\"id\":\"bffb92e4-f688-4a25-86c1-11ea670b8fbd\",\"type\":\"BoxZoomTool\"},{\"id\":\"c5355c93-0647-469d-8b43-214df9ee1bb5\",\"type\":\"SaveTool\"},{\"id\":\"c9cb6b2d-cb94-4cc1-ac2b-1a8499d8dbc7\",\"type\":\"ResetTool\"},{\"id\":\"5eb82a47-3b3e-4d9e-85b9-e8356c644ea0\",\"type\":\"HelpTool\"}]},\"id\":\"250c9fc2-824b-4072-96f1-60ac78c69692\",\"type\":\"Toolbar\"},{\"attributes\":{\"data_source\":{\"id\":\"cea9c6e9-0826-48e9-8333-67eb23ba1776\",\"type\":\"ColumnDataSource\"},\"glyph\":{\"id\":\"3ceca1c3-5b54-4583-b821-0551e7cc897b\",\"type\":\"Rect\"},\"hover_glyph\":null,\"nonselection_glyph\":null,\"selection_glyph\":null},\"id\":\"80342f89-7f3a-46db-856c-a3ab679c4d25\",\"type\":\"GlyphRenderer\"},{\"attributes\":{\"callback\":null,\"column_names\":[\"color\",\"label\",\"line_alpha\",\"height\",\"fill_alpha\",\"y\",\"x\",\"line_color\",\"width\"],\"data\":{\"chart_index\":[{\"index\":\"35\"}],\"color\":[\"#f22c40\"],\"fill_alpha\":[0.8],\"height\":[432.0],\"index\":[\"35\"],\"label\":[{\"index\":\"35\"}],\"line_alpha\":[1.0],\"line_color\":[\"white\"],\"width\":[0.8],\"x\":[\"35\"],\"y\":[216.0]}},\"id\":\"c1d41f1b-93d9-40d5-8e50-855441975141\",\"type\":\"ColumnDataSource\"},{\"attributes\":{\"fill_alpha\":{\"field\":\"fill_alpha\"},\"fill_color\":{\"field\":\"color\"},\"height\":{\"field\":\"height\",\"units\":\"data\"},\"line_color\":{\"field\":\"line_color\"},\"width\":{\"field\":\"width\",\"units\":\"data\"},\"x\":{\"field\":\"x\"},\"y\":{\"field\":\"y\"}},\"id\":\"42a7e6e9-52d8-4d3b-9ab0-061f814cefaf\",\"type\":\"Rect\"},{\"attributes\":{\"data_source\":{\"id\":\"0a541ea5-1569-4d3b-accf-ab02954bc1c6\",\"type\":\"ColumnDataSource\"},\"glyph\":{\"id\":\"96a10878-70a7-4b96-bac2-8c53db2624fe\",\"type\":\"Rect\"},\"hover_glyph\":null,\"nonselection_glyph\":null,\"selection_glyph\":null},\"id\":\"658ff162-edf9-47a0-8d9f-caf69b41b9d0\",\"type\":\"GlyphRenderer\"},{\"attributes\":{\"callback\":null,\"column_names\":[\"color\",\"label\",\"line_alpha\",\"height\",\"fill_alpha\",\"y\",\"x\",\"line_color\",\"width\"],\"data\":{\"chart_index\":[{\"index\":\"2\"}],\"color\":[\"#f22c40\"],\"fill_alpha\":[0.8],\"height\":[80.0],\"index\":[\"2\"],\"label\":[{\"index\":\"2\"}],\"line_alpha\":[1.0],\"line_color\":[\"white\"],\"width\":[0.8],\"x\":[\"2\"],\"y\":[40.0]}},\"id\":\"d602306b-f9af-48e0-9bf1-b12f5e3b3e27\",\"type\":\"ColumnDataSource\"},{\"attributes\":{\"data_source\":{\"id\":\"f0c2e52e-09ee-4a89-8c3c-e6222ea6e881\",\"type\":\"ColumnDataSource\"},\"glyph\":{\"id\":\"3c9f5bd2-b68f-449e-b95e-c5cd848d9958\",\"type\":\"Rect\"},\"hover_glyph\":null,\"nonselection_glyph\":null,\"selection_glyph\":null},\"id\":\"8ec95310-5d50-43f3-93e1-21b499f13178\",\"type\":\"GlyphRenderer\"},{\"attributes\":{\"fill_alpha\":{\"field\":\"fill_alpha\"},\"fill_color\":{\"field\":\"color\"},\"height\":{\"field\":\"height\",\"units\":\"data\"},\"line_color\":{\"field\":\"line_color\"},\"width\":{\"field\":\"width\",\"units\":\"data\"},\"x\":{\"field\":\"x\"},\"y\":{\"field\":\"y\"}},\"id\":\"f5a45573-618c-4362-87f0-859c128e8c96\",\"type\":\"Rect\"},{\"attributes\":{\"callback\":null,\"column_names\":[\"color\",\"label\",\"line_alpha\",\"height\",\"fill_alpha\",\"y\",\"x\",\"line_color\",\"width\"],\"data\":{\"chart_index\":[{\"index\":\"8\"}],\"color\":[\"#f22c40\"],\"fill_alpha\":[0.8],\"height\":[21.0],\"index\":[\"8\"],\"label\":[{\"index\":\"8\"}],\"line_alpha\":[1.0],\"line_color\":[\"white\"],\"width\":[0.8],\"x\":[\"8\"],\"y\":[10.5]}},\"id\":\"ee73c906-197e-4d73-a65d-beabfd413769\",\"type\":\"ColumnDataSource\"},{\"attributes\":{\"fill_alpha\":{\"field\":\"fill_alpha\"},\"fill_color\":{\"field\":\"color\"},\"height\":{\"field\":\"height\",\"units\":\"data\"},\"line_color\":{\"field\":\"line_color\"},\"width\":{\"field\":\"width\",\"units\":\"data\"},\"x\":{\"field\":\"x\"},\"y\":{\"field\":\"y\"}},\"id\":\"6ece1d9c-3e45-4be2-900d-6b9fd18786e4\",\"type\":\"Rect\"},{\"attributes\":{\"callback\":null,\"column_names\":[\"color\",\"label\",\"line_alpha\",\"height\",\"fill_alpha\",\"y\",\"x\",\"line_color\",\"width\"],\"data\":{\"chart_index\":[{\"index\":\"11\"}],\"color\":[\"#f22c40\"],\"fill_alpha\":[0.8],\"height\":[62.0],\"index\":[\"11\"],\"label\":[{\"index\":\"11\"}],\"line_alpha\":[1.0],\"line_color\":[\"white\"],\"width\":[0.8],\"x\":[\"11\"],\"y\":[31.0]}},\"id\":\"6281aa7a-72bd-4247-8f01-55f2cd919900\",\"type\":\"ColumnDataSource\"},{\"attributes\":{\"fill_alpha\":{\"field\":\"fill_alpha\"},\"fill_color\":{\"field\":\"color\"},\"height\":{\"field\":\"height\",\"units\":\"data\"},\"line_color\":{\"field\":\"line_color\"},\"width\":{\"field\":\"width\",\"units\":\"data\"},\"x\":{\"field\":\"x\"},\"y\":{\"field\":\"y\"}},\"id\":\"5706bfbd-1aa6-4e8f-a5bf-6292a3b7eaff\",\"type\":\"Rect\"},{\"attributes\":{\"fill_alpha\":{\"field\":\"fill_alpha\"},\"fill_color\":{\"field\":\"color\"},\"height\":{\"field\":\"height\",\"units\":\"data\"},\"line_color\":{\"field\":\"line_color\"},\"width\":{\"field\":\"width\",\"units\":\"data\"},\"x\":{\"field\":\"x\"},\"y\":{\"field\":\"y\"}},\"id\":\"3ceca1c3-5b54-4583-b821-0551e7cc897b\",\"type\":\"Rect\"},{\"attributes\":{\"fill_alpha\":{\"field\":\"fill_alpha\"},\"fill_color\":{\"field\":\"color\"},\"height\":{\"field\":\"height\",\"units\":\"data\"},\"line_color\":{\"field\":\"line_color\"},\"width\":{\"field\":\"width\",\"units\":\"data\"},\"x\":{\"field\":\"x\"},\"y\":{\"field\":\"y\"}},\"id\":\"ccdf4beb-2d47-4cc3-af89-df767a73b94e\",\"type\":\"Rect\"},{\"attributes\":{\"data_source\":{\"id\":\"3b1d46b7-7cf1-4d30-8707-71f4e7d3bd93\",\"type\":\"ColumnDataSource\"},\"glyph\":{\"id\":\"cec65fc7-8580-4d9a-822e-c10a7256319a\",\"type\":\"Rect\"},\"hover_glyph\":null,\"nonselection_glyph\":null,\"selection_glyph\":null},\"id\":\"9cc2d1cc-5f32-448f-b776-d205f9c52afe\",\"type\":\"GlyphRenderer\"},{\"attributes\":{\"callback\":null,\"factors\":[\"1\",\"10\",\"11\",\"12\",\"13\",\"14\",\"16\",\"17\",\"18\",\"19\",\"2\",\"20\",\"21\",\"22\",\"24\",\"25\",\"26\",\"28\",\"29\",\"3\",\"30\",\"31\",\"32\",\"33\",\"34\",\"35\",\"36\",\"37\",\"38\",\"39\",\"40\",\"41\",\"42\",\"43\",\"44\",\"45\",\"6\",\"7\",\"70\",\"8\",\"9\"]},\"id\":\"74603a31-f6eb-4db8-b904-c33ebad6b9e1\",\"type\":\"FactorRange\"},{\"attributes\":{\"data_source\":{\"id\":\"7d6f4198-36c1-4828-b6c5-6de511d2d9a3\",\"type\":\"ColumnDataSource\"},\"glyph\":{\"id\":\"5ae14d97-9ef3-4e77-9c1b-640082f706b4\",\"type\":\"Rect\"},\"hover_glyph\":null,\"nonselection_glyph\":null,\"selection_glyph\":null},\"id\":\"b1b0cce2-e7d8-4cd5-830e-a65b12ebfdc6\",\"type\":\"GlyphRenderer\"},{\"attributes\":{\"data_source\":{\"id\":\"e1e99df1-ffe4-4f07-a952-2554499a8b43\",\"type\":\"ColumnDataSource\"},\"glyph\":{\"id\":\"0957f499-a771-40b2-bad6-3dfd1153c764\",\"type\":\"Rect\"},\"hover_glyph\":null,\"nonselection_glyph\":null,\"selection_glyph\":null},\"id\":\"160b36ca-5b08-48af-9455-1e5d84a0c1f7\",\"type\":\"GlyphRenderer\"},{\"attributes\":{\"data_source\":{\"id\":\"d8fc091e-4bf3-4252-9781-42f2d732a19c\",\"type\":\"ColumnDataSource\"},\"glyph\":{\"id\":\"1aead1bf-0b5f-44b8-b0bd-f496f6bfa10b\",\"type\":\"Rect\"},\"hover_glyph\":null,\"nonselection_glyph\":null,\"selection_glyph\":null},\"id\":\"503b18f1-0b9d-400f-b21c-28f18983cbe3\",\"type\":\"GlyphRenderer\"},{\"attributes\":{\"callback\":null,\"column_names\":[\"color\",\"label\",\"line_alpha\",\"height\",\"fill_alpha\",\"y\",\"x\",\"line_color\",\"width\"],\"data\":{\"chart_index\":[{\"index\":\"7\"}],\"color\":[\"#f22c40\"],\"fill_alpha\":[0.8],\"height\":[3.0],\"index\":[\"7\"],\"label\":[{\"index\":\"7\"}],\"line_alpha\":[1.0],\"line_color\":[\"white\"],\"width\":[0.8],\"x\":[\"7\"],\"y\":[1.5]}},\"id\":\"7c692858-f3b2-4833-b677-abfdaed5bc25\",\"type\":\"ColumnDataSource\"},{\"attributes\":{\"fill_alpha\":{\"field\":\"fill_alpha\"},\"fill_color\":{\"field\":\"color\"},\"height\":{\"field\":\"height\",\"units\":\"data\"},\"line_color\":{\"field\":\"line_color\"},\"width\":{\"field\":\"width\",\"units\":\"data\"},\"x\":{\"field\":\"x\"},\"y\":{\"field\":\"y\"}},\"id\":\"d2aa6fcd-8fe1-4114-ba4d-be1e84a3c486\",\"type\":\"Rect\"},{\"attributes\":{\"data_source\":{\"id\":\"c3f05b7c-17ac-490f-b833-9c2e2690186b\",\"type\":\"ColumnDataSource\"},\"glyph\":{\"id\":\"ea46cc8f-3957-4816-9ac5-9160b9f7132a\",\"type\":\"Rect\"},\"hover_glyph\":null,\"nonselection_glyph\":null,\"selection_glyph\":null},\"id\":\"185716f3-10b6-405e-aefd-3ae9f8868031\",\"type\":\"GlyphRenderer\"},{\"attributes\":{\"data_source\":{\"id\":\"6eb2a387-76b9-44fb-8f66-0614e2f71fdf\",\"type\":\"ColumnDataSource\"},\"glyph\":{\"id\":\"056e832b-e194-4382-af0b-3147a0ff2c51\",\"type\":\"Rect\"},\"hover_glyph\":null,\"nonselection_glyph\":null,\"selection_glyph\":null},\"id\":\"7e12d465-d3b0-4d6f-983c-cf607e76474d\",\"type\":\"GlyphRenderer\"},{\"attributes\":{},\"id\":\"26dae78b-1e32-46a5-b035-feca42e96bca\",\"type\":\"CategoricalTicker\"},{\"attributes\":{\"fill_alpha\":{\"field\":\"fill_alpha\"},\"fill_color\":{\"field\":\"color\"},\"height\":{\"field\":\"height\",\"units\":\"data\"},\"line_color\":{\"field\":\"line_color\"},\"width\":{\"field\":\"width\",\"units\":\"data\"},\"x\":{\"field\":\"x\"},\"y\":{\"field\":\"y\"}},\"id\":\"66a85e26-2373-4c88-83d0-ec2c47ff1aa4\",\"type\":\"Rect\"},{\"attributes\":{\"data_source\":{\"id\":\"36c44b22-7153-43ee-9cca-41d6e099fe53\",\"type\":\"ColumnDataSource\"},\"glyph\":{\"id\":\"7f059e5c-d769-48a6-8545-c820051068bd\",\"type\":\"Rect\"},\"hover_glyph\":null,\"nonselection_glyph\":null,\"selection_glyph\":null},\"id\":\"dc3f82ba-9f55-446b-ad76-e3893949298f\",\"type\":\"GlyphRenderer\"},{\"attributes\":{\"fill_alpha\":{\"field\":\"fill_alpha\"},\"fill_color\":{\"field\":\"color\"},\"height\":{\"field\":\"height\",\"units\":\"data\"},\"line_color\":{\"field\":\"line_color\"},\"width\":{\"field\":\"width\",\"units\":\"data\"},\"x\":{\"field\":\"x\"},\"y\":{\"field\":\"y\"}},\"id\":\"ea46cc8f-3957-4816-9ac5-9160b9f7132a\",\"type\":\"Rect\"},{\"attributes\":{\"data_source\":{\"id\":\"54f3e6bc-8632-492c-8132-fbec6c264324\",\"type\":\"ColumnDataSource\"},\"glyph\":{\"id\":\"8ecd0586-a15d-4f2f-a457-3423fc575a13\",\"type\":\"Rect\"},\"hover_glyph\":null,\"nonselection_glyph\":null,\"selection_glyph\":null},\"id\":\"d1aa9920-5ad3-4250-a861-6f01b80db397\",\"type\":\"GlyphRenderer\"},{\"attributes\":{},\"id\":\"5c65f594-d9dd-49d7-a640-310a85b9258b\",\"type\":\"CategoricalTickFormatter\"},{\"attributes\":{\"callback\":null,\"column_names\":[\"color\",\"label\",\"line_alpha\",\"height\",\"fill_alpha\",\"y\",\"x\",\"line_color\",\"width\"],\"data\":{\"chart_index\":[{\"index\":\"6\"}],\"color\":[\"#f22c40\"],\"fill_alpha\":[0.8],\"height\":[18.0],\"index\":[\"6\"],\"label\":[{\"index\":\"6\"}],\"line_alpha\":[1.0],\"line_color\":[\"white\"],\"width\":[0.8],\"x\":[\"6\"],\"y\":[9.0]}},\"id\":\"45b44363-b1fc-4622-a6c6-a9446a85a543\",\"type\":\"ColumnDataSource\"},{\"attributes\":{\"fill_alpha\":{\"field\":\"fill_alpha\"},\"fill_color\":{\"field\":\"color\"},\"height\":{\"field\":\"height\",\"units\":\"data\"},\"line_color\":{\"field\":\"line_color\"},\"width\":{\"field\":\"width\",\"units\":\"data\"},\"x\":{\"field\":\"x\"},\"y\":{\"field\":\"y\"}},\"id\":\"8ecd0586-a15d-4f2f-a457-3423fc575a13\",\"type\":\"Rect\"},{\"attributes\":{\"formatter\":{\"id\":\"5c65f594-d9dd-49d7-a640-310a85b9258b\",\"type\":\"CategoricalTickFormatter\"},\"major_label_orientation\":0.7853981633974483,\"plot\":{\"id\":\"6f0f7a8d-4078-402d-b83b-c256b646d019\",\"subtype\":\"Chart\",\"type\":\"Plot\"},\"ticker\":{\"id\":\"26dae78b-1e32-46a5-b035-feca42e96bca\",\"type\":\"CategoricalTicker\"}},\"id\":\"9c663424-942e-46fe-8fdb-37dfbb08567f\",\"type\":\"CategoricalAxis\"},{\"attributes\":{\"data_source\":{\"id\":\"1a897c08-74e2-4f21-8233-74a7b9358886\",\"type\":\"ColumnDataSource\"},\"glyph\":{\"id\":\"ccdf4beb-2d47-4cc3-af89-df767a73b94e\",\"type\":\"Rect\"},\"hover_glyph\":null,\"nonselection_glyph\":null,\"selection_glyph\":null},\"id\":\"3d72a4e4-0d2b-4428-86b6-9206f83881cc\",\"type\":\"GlyphRenderer\"},{\"attributes\":{\"plot\":{\"id\":\"6f0f7a8d-4078-402d-b83b-c256b646d019\",\"subtype\":\"Chart\",\"type\":\"Plot\"}},\"id\":\"d1dd6ea8-e212-489f-aa05-94fa148b9668\",\"type\":\"WheelZoomTool\"},{\"attributes\":{\"plot\":null,\"text\":null},\"id\":\"03695d20-b412-4049-9d59-b99386218a19\",\"type\":\"Title\"},{\"attributes\":{\"fill_alpha\":{\"field\":\"fill_alpha\"},\"fill_color\":{\"field\":\"color\"},\"height\":{\"field\":\"height\",\"units\":\"data\"},\"line_color\":{\"field\":\"line_color\"},\"width\":{\"field\":\"width\",\"units\":\"data\"},\"x\":{\"field\":\"x\"},\"y\":{\"field\":\"y\"}},\"id\":\"0cb5ebaa-dd9b-4ad0-9293-18090f4d5e1a\",\"type\":\"Rect\"},{\"attributes\":{\"data_source\":{\"id\":\"3142a4d9-1d72-415a-88d4-231ddeca88f0\",\"type\":\"ColumnDataSource\"},\"glyph\":{\"id\":\"30ddf9d3-5b58-4d12-8eda-e8144119c383\",\"type\":\"Rect\"},\"hover_glyph\":null,\"nonselection_glyph\":null,\"selection_glyph\":null},\"id\":\"712dd0ef-e6f5-4880-b81c-fb349c4e77e5\",\"type\":\"GlyphRenderer\"},{\"attributes\":{\"callback\":null,\"column_names\":[\"color\",\"label\",\"line_alpha\",\"height\",\"fill_alpha\",\"y\",\"x\",\"line_color\",\"width\"],\"data\":{\"chart_index\":[{\"index\":\"42\"}],\"color\":[\"#f22c40\"],\"fill_alpha\":[0.8],\"height\":[52.0],\"index\":[\"42\"],\"label\":[{\"index\":\"42\"}],\"line_alpha\":[1.0],\"line_color\":[\"white\"],\"width\":[0.8],\"x\":[\"42\"],\"y\":[26.0]}},\"id\":\"bfab0e2f-357a-450e-bdc4-605014adedb1\",\"type\":\"ColumnDataSource\"},{\"attributes\":{},\"id\":\"b4de2f65-fe08-4c28-ae3c-71c5f16d8322\",\"type\":\"BasicTicker\"},{\"attributes\":{\"plot\":{\"id\":\"6f0f7a8d-4078-402d-b83b-c256b646d019\",\"subtype\":\"Chart\",\"type\":\"Plot\"}},\"id\":\"c5355c93-0647-469d-8b43-214df9ee1bb5\",\"type\":\"SaveTool\"},{\"attributes\":{\"callback\":null,\"column_names\":[\"color\",\"label\",\"line_alpha\",\"height\",\"fill_alpha\",\"y\",\"x\",\"line_color\",\"width\"],\"data\":{\"chart_index\":[{\"index\":\"19\"}],\"color\":[\"#f22c40\"],\"fill_alpha\":[0.8],\"height\":[43.0],\"index\":[\"19\"],\"label\":[{\"index\":\"19\"}],\"line_alpha\":[1.0],\"line_color\":[\"white\"],\"width\":[0.8],\"x\":[\"19\"],\"y\":[21.5]}},\"id\":\"3142a4d9-1d72-415a-88d4-231ddeca88f0\",\"type\":\"ColumnDataSource\"},{\"attributes\":{\"fill_alpha\":{\"field\":\"fill_alpha\"},\"fill_color\":{\"field\":\"color\"},\"height\":{\"field\":\"height\",\"units\":\"data\"},\"line_color\":{\"field\":\"line_color\"},\"width\":{\"field\":\"width\",\"units\":\"data\"},\"x\":{\"field\":\"x\"},\"y\":{\"field\":\"y\"}},\"id\":\"30ddf9d3-5b58-4d12-8eda-e8144119c383\",\"type\":\"Rect\"},{\"attributes\":{\"callback\":null,\"column_names\":[\"color\",\"label\",\"line_alpha\",\"height\",\"fill_alpha\",\"y\",\"x\",\"line_color\",\"width\"],\"data\":{\"chart_index\":[{\"index\":\"45\"}],\"color\":[\"#f22c40\"],\"fill_alpha\":[0.8],\"height\":[68.0],\"index\":[\"45\"],\"label\":[{\"index\":\"45\"}],\"line_alpha\":[1.0],\"line_color\":[\"white\"],\"width\":[0.8],\"x\":[\"45\"],\"y\":[34.0]}},\"id\":\"3b1d46b7-7cf1-4d30-8707-71f4e7d3bd93\",\"type\":\"ColumnDataSource\"},{\"attributes\":{\"fill_alpha\":{\"field\":\"fill_alpha\"},\"fill_color\":{\"field\":\"color\"},\"height\":{\"field\":\"height\",\"units\":\"data\"},\"line_color\":{\"field\":\"line_color\"},\"width\":{\"field\":\"width\",\"units\":\"data\"},\"x\":{\"field\":\"x\"},\"y\":{\"field\":\"y\"}},\"id\":\"061fcc9e-2e04-4658-83e2-5cfec2c4b4c8\",\"type\":\"Rect\"},{\"attributes\":{\"data_source\":{\"id\":\"6b2d4522-f763-4dc3-9a92-1d6eb0e1f746\",\"type\":\"ColumnDataSource\"},\"glyph\":{\"id\":\"66d772ee-1bcc-4d7a-8c18-4edb48a0209f\",\"type\":\"Rect\"},\"hover_glyph\":null,\"nonselection_glyph\":null,\"selection_glyph\":null},\"id\":\"bb733cbb-03a2-421b-b6dd-f5c5709d7d1e\",\"type\":\"GlyphRenderer\"},{\"attributes\":{\"data_source\":{\"id\":\"bfab0e2f-357a-450e-bdc4-605014adedb1\",\"type\":\"ColumnDataSource\"},\"glyph\":{\"id\":\"c4789b1e-115c-498f-8f19-45f634af7bad\",\"type\":\"Rect\"},\"hover_glyph\":null,\"nonselection_glyph\":null,\"selection_glyph\":null},\"id\":\"e8bf8126-f320-4c39-af9c-90828fa1e16f\",\"type\":\"GlyphRenderer\"},{\"attributes\":{\"callback\":null,\"column_names\":[\"color\",\"label\",\"line_alpha\",\"height\",\"fill_alpha\",\"y\",\"x\",\"line_color\",\"width\"],\"data\":{\"chart_index\":[{\"index\":\"31\"}],\"color\":[\"#f22c40\"],\"fill_alpha\":[0.8],\"height\":[40.0],\"index\":[\"31\"],\"label\":[{\"index\":\"31\"}],\"line_alpha\":[1.0],\"line_color\":[\"white\"],\"width\":[0.8],\"x\":[\"31\"],\"y\":[20.0]}},\"id\":\"cea9c6e9-0826-48e9-8333-67eb23ba1776\",\"type\":\"ColumnDataSource\"},{\"attributes\":{\"callback\":null,\"column_names\":[\"color\",\"label\",\"line_alpha\",\"height\",\"fill_alpha\",\"y\",\"x\",\"line_color\",\"width\"],\"data\":{\"chart_index\":[{\"index\":\"24\"}],\"color\":[\"#f22c40\"],\"fill_alpha\":[0.8],\"height\":[28.0],\"index\":[\"24\"],\"label\":[{\"index\":\"24\"}],\"line_alpha\":[1.0],\"line_color\":[\"white\"],\"width\":[0.8],\"x\":[\"24\"],\"y\":[14.0]}},\"id\":\"d8fc091e-4bf3-4252-9781-42f2d732a19c\",\"type\":\"ColumnDataSource\"},{\"attributes\":{\"callback\":null,\"column_names\":[\"color\",\"label\",\"line_alpha\",\"height\",\"fill_alpha\",\"y\",\"x\",\"line_color\",\"width\"],\"data\":{\"chart_index\":[{\"index\":\"21\"}],\"color\":[\"#f22c40\"],\"fill_alpha\":[0.8],\"height\":[94.0],\"index\":[\"21\"],\"label\":[{\"index\":\"21\"}],\"line_alpha\":[1.0],\"line_color\":[\"white\"],\"width\":[0.8],\"x\":[\"21\"],\"y\":[47.0]}},\"id\":\"79473d6c-cf10-4c6e-ae45-09ada5cd7e91\",\"type\":\"ColumnDataSource\"},{\"attributes\":{\"data_source\":{\"id\":\"b3c4db0a-79a1-49bf-9320-28a4a27c4a34\",\"type\":\"ColumnDataSource\"},\"glyph\":{\"id\":\"66a85e26-2373-4c88-83d0-ec2c47ff1aa4\",\"type\":\"Rect\"},\"hover_glyph\":null,\"nonselection_glyph\":null,\"selection_glyph\":null},\"id\":\"55ab922d-e7aa-4b99-bc65-23d086a6e8ea\",\"type\":\"GlyphRenderer\"},{\"attributes\":{\"callback\":null,\"column_names\":[\"color\",\"label\",\"line_alpha\",\"height\",\"fill_alpha\",\"y\",\"x\",\"line_color\",\"width\"],\"data\":{\"chart_index\":[{\"index\":\"37\"}],\"color\":[\"#f22c40\"],\"fill_alpha\":[0.8],\"height\":[34.0],\"index\":[\"37\"],\"label\":[{\"index\":\"37\"}],\"line_alpha\":[1.0],\"line_color\":[\"white\"],\"width\":[0.8],\"x\":[\"37\"],\"y\":[17.0]}},\"id\":\"36c44b22-7153-43ee-9cca-41d6e099fe53\",\"type\":\"ColumnDataSource\"},{\"attributes\":{\"callback\":null,\"column_names\":[\"color\",\"label\",\"line_alpha\",\"height\",\"fill_alpha\",\"y\",\"x\",\"line_color\",\"width\"],\"data\":{\"chart_index\":[{\"index\":\"70\"}],\"color\":[\"#f22c40\"],\"fill_alpha\":[0.8],\"height\":[3.0],\"index\":[\"70\"],\"label\":[{\"index\":\"70\"}],\"line_alpha\":[1.0],\"line_color\":[\"white\"],\"width\":[0.8],\"x\":[\"70\"],\"y\":[1.5]}},\"id\":\"f5597570-8d1c-4070-a2ed-ce800fa659cb\",\"type\":\"ColumnDataSource\"},{\"attributes\":{\"fill_alpha\":{\"field\":\"fill_alpha\"},\"fill_color\":{\"field\":\"color\"},\"height\":{\"field\":\"height\",\"units\":\"data\"},\"line_color\":{\"field\":\"line_color\"},\"width\":{\"field\":\"width\",\"units\":\"data\"},\"x\":{\"field\":\"x\"},\"y\":{\"field\":\"y\"}},\"id\":\"3965a1a4-1ff0-4ab2-8f0b-9ba73933da0d\",\"type\":\"Rect\"},{\"attributes\":{\"data_source\":{\"id\":\"85b92d79-52bc-4e78-a928-950e2a70d32e\",\"type\":\"ColumnDataSource\"},\"glyph\":{\"id\":\"618c2836-bff4-4076-8b4a-eb608489734d\",\"type\":\"Rect\"},\"hover_glyph\":null,\"nonselection_glyph\":null,\"selection_glyph\":null},\"id\":\"4aa9a5d2-6b67-428a-820d-c2c206b7cf6d\",\"type\":\"GlyphRenderer\"},{\"attributes\":{\"fill_alpha\":{\"field\":\"fill_alpha\"},\"fill_color\":{\"field\":\"color\"},\"height\":{\"field\":\"height\",\"units\":\"data\"},\"line_color\":{\"field\":\"line_color\"},\"width\":{\"field\":\"width\",\"units\":\"data\"},\"x\":{\"field\":\"x\"},\"y\":{\"field\":\"y\"}},\"id\":\"63500820-7bff-4173-9032-d79379fb603e\",\"type\":\"Rect\"},{\"attributes\":{\"data_source\":{\"id\":\"4346e163-0594-47d4-a116-703d274fe079\",\"type\":\"ColumnDataSource\"},\"glyph\":{\"id\":\"edb46faa-ba89-41f3-af6b-c7c47f13fb53\",\"type\":\"Rect\"},\"hover_glyph\":null,\"nonselection_glyph\":null,\"selection_glyph\":null},\"id\":\"05f4a794-3018-4235-aa44-ce54ae617eb0\",\"type\":\"GlyphRenderer\"},{\"attributes\":{},\"id\":\"4cb09b51-4b3c-43b6-91ba-86cafdc8b151\",\"type\":\"BasicTickFormatter\"},{\"attributes\":{\"callback\":null,\"end\":513.45},\"id\":\"679efc82-b313-414b-88da-9094286f503e\",\"type\":\"Range1d\"},{\"attributes\":{\"plot\":{\"id\":\"6f0f7a8d-4078-402d-b83b-c256b646d019\",\"subtype\":\"Chart\",\"type\":\"Plot\"}},\"id\":\"f3d54985-f3e5-44c8-a54c-0a840f99d835\",\"type\":\"PanTool\"},{\"attributes\":{\"below\":[{\"id\":\"9c663424-942e-46fe-8fdb-37dfbb08567f\",\"type\":\"CategoricalAxis\"}],\"left\":[{\"id\":\"249259fd-9bd3-4070-930d-5c46d27dbae4\",\"type\":\"LinearAxis\"}],\"renderers\":[{\"id\":\"ddfd5887-6f73-41da-b2f2-2a0a6bccdfac\",\"type\":\"BoxAnnotation\"},{\"id\":\"b1b0cce2-e7d8-4cd5-830e-a65b12ebfdc6\",\"type\":\"GlyphRenderer\"},{\"id\":\"160b36ca-5b08-48af-9455-1e5d84a0c1f7\",\"type\":\"GlyphRenderer\"},{\"id\":\"67b92acd-5fd4-4a2f-a917-687f9b9b0529\",\"type\":\"GlyphRenderer\"},{\"id\":\"392b73c5-acb9-4bb4-bfb3-ec67200a44e3\",\"type\":\"GlyphRenderer\"},{\"id\":\"28ea47d6-ed52-44dd-81ee-f543d2aa5246\",\"type\":\"GlyphRenderer\"},{\"id\":\"11a803ed-c524-4cb0-ae06-9253f8871d47\",\"type\":\"GlyphRenderer\"},{\"id\":\"8ec95310-5d50-43f3-93e1-21b499f13178\",\"type\":\"GlyphRenderer\"},{\"id\":\"3d72a4e4-0d2b-4428-86b6-9206f83881cc\",\"type\":\"GlyphRenderer\"},{\"id\":\"dc67dc10-fc3e-4b24-807b-56ce8735cac2\",\"type\":\"GlyphRenderer\"},{\"id\":\"712dd0ef-e6f5-4880-b81c-fb349c4e77e5\",\"type\":\"GlyphRenderer\"},{\"id\":\"1b64b36d-0cd4-404a-8830-b4d74406c6cb\",\"type\":\"GlyphRenderer\"},{\"id\":\"2812cf47-fbf2-4a67-a4b3-149374a68922\",\"type\":\"GlyphRenderer\"},{\"id\":\"f3c11219-d880-4421-a301-7b5ddc83d65e\",\"type\":\"GlyphRenderer\"},{\"id\":\"bb733cbb-03a2-421b-b6dd-f5c5709d7d1e\",\"type\":\"GlyphRenderer\"},{\"id\":\"503b18f1-0b9d-400f-b21c-28f18983cbe3\",\"type\":\"GlyphRenderer\"},{\"id\":\"8746bf88-f2a2-470d-9bf2-427aad07ea05\",\"type\":\"GlyphRenderer\"},{\"id\":\"f83059cc-ee95-406f-aad6-574421a8155f\",\"type\":\"GlyphRenderer\"},{\"id\":\"7e12d465-d3b0-4d6f-983c-cf607e76474d\",\"type\":\"GlyphRenderer\"},{\"id\":\"c4264a4b-269f-48fd-aeb1-c48b23c06abf\",\"type\":\"GlyphRenderer\"},{\"id\":\"d1aa9920-5ad3-4250-a861-6f01b80db397\",\"type\":\"GlyphRenderer\"},{\"id\":\"e845842c-3793-4bc1-84e5-9ff8700fb5a6\",\"type\":\"GlyphRenderer\"},{\"id\":\"80342f89-7f3a-46db-856c-a3ab679c4d25\",\"type\":\"GlyphRenderer\"},{\"id\":\"05f4a794-3018-4235-aa44-ce54ae617eb0\",\"type\":\"GlyphRenderer\"},{\"id\":\"fe4d9ef5-076c-436e-82d6-db797bee1ca8\",\"type\":\"GlyphRenderer\"},{\"id\":\"4aa9a5d2-6b67-428a-820d-c2c206b7cf6d\",\"type\":\"GlyphRenderer\"},{\"id\":\"73e1aef5-7f1c-4d3b-833f-a317d5738972\",\"type\":\"GlyphRenderer\"},{\"id\":\"658ff162-edf9-47a0-8d9f-caf69b41b9d0\",\"type\":\"GlyphRenderer\"},{\"id\":\"dc3f82ba-9f55-446b-ad76-e3893949298f\",\"type\":\"GlyphRenderer\"},{\"id\":\"5dd3847f-c027-48a9-a661-5c1e59829b70\",\"type\":\"GlyphRenderer\"},{\"id\":\"185716f3-10b6-405e-aefd-3ae9f8868031\",\"type\":\"GlyphRenderer\"},{\"id\":\"ddc06e96-a840-472c-aeb6-ac72f9886d28\",\"type\":\"GlyphRenderer\"},{\"id\":\"82d2b5e0-ccfc-4308-bee9-9394f59a9061\",\"type\":\"GlyphRenderer\"},{\"id\":\"e8bf8126-f320-4c39-af9c-90828fa1e16f\",\"type\":\"GlyphRenderer\"},{\"id\":\"23745fef-cf27-4cc3-8a0a-cac91807ca2b\",\"type\":\"GlyphRenderer\"},{\"id\":\"55ab922d-e7aa-4b99-bc65-23d086a6e8ea\",\"type\":\"GlyphRenderer\"},{\"id\":\"9cc2d1cc-5f32-448f-b776-d205f9c52afe\",\"type\":\"GlyphRenderer\"},{\"id\":\"ffec3079-d1b5-4d44-84ca-69b0ee18f556\",\"type\":\"GlyphRenderer\"},{\"id\":\"2916d944-02d0-4263-9f6c-97514ab5eacc\",\"type\":\"GlyphRenderer\"},{\"id\":\"57bd3fb5-e0f4-4320-8d47-5c2426009f03\",\"type\":\"GlyphRenderer\"},{\"id\":\"1ffce055-d688-4350-bad3-3b2681eee851\",\"type\":\"GlyphRenderer\"},{\"id\":\"fffdc93c-161e-410e-b2fd-cca7814e33e9\",\"type\":\"GlyphRenderer\"},{\"id\":\"9c663424-942e-46fe-8fdb-37dfbb08567f\",\"type\":\"CategoricalAxis\"},{\"id\":\"249259fd-9bd3-4070-930d-5c46d27dbae4\",\"type\":\"LinearAxis\"},{\"id\":\"460b466e-e040-4872-b270-dffe436cf3d4\",\"type\":\"Grid\"}],\"title\":{\"id\":\"03695d20-b412-4049-9d59-b99386218a19\",\"type\":\"Title\"},\"tool_events\":{\"id\":\"6a49c5bd-c65d-4d4a-8fc8-47cf54ba8b24\",\"type\":\"ToolEvents\"},\"toolbar\":{\"id\":\"250c9fc2-824b-4072-96f1-60ac78c69692\",\"type\":\"Toolbar\"},\"x_mapper_type\":\"auto\",\"x_range\":{\"id\":\"74603a31-f6eb-4db8-b904-c33ebad6b9e1\",\"type\":\"FactorRange\"},\"y_mapper_type\":\"auto\",\"y_range\":{\"id\":\"679efc82-b313-414b-88da-9094286f503e\",\"type\":\"Range1d\"}},\"id\":\"6f0f7a8d-4078-402d-b83b-c256b646d019\",\"subtype\":\"Chart\",\"type\":\"Plot\"},{\"attributes\":{\"callback\":null,\"column_names\":[\"color\",\"label\",\"line_alpha\",\"height\",\"fill_alpha\",\"y\",\"x\",\"line_color\",\"width\"],\"data\":{\"chart_index\":[{\"index\":\"10\"}],\"color\":[\"#f22c40\"],\"fill_alpha\":[0.8],\"height\":[8.0],\"index\":[\"10\"],\"label\":[{\"index\":\"10\"}],\"line_alpha\":[1.0],\"line_color\":[\"white\"],\"width\":[0.8],\"x\":[\"10\"],\"y\":[4.0]}},\"id\":\"e1e99df1-ffe4-4f07-a952-2554499a8b43\",\"type\":\"ColumnDataSource\"},{\"attributes\":{\"fill_alpha\":{\"field\":\"fill_alpha\"},\"fill_color\":{\"field\":\"color\"},\"height\":{\"field\":\"height\",\"units\":\"data\"},\"line_color\":{\"field\":\"line_color\"},\"width\":{\"field\":\"width\",\"units\":\"data\"},\"x\":{\"field\":\"x\"},\"y\":{\"field\":\"y\"}},\"id\":\"cec65fc7-8580-4d9a-822e-c10a7256319a\",\"type\":\"Rect\"},{\"attributes\":{\"bottom_units\":\"screen\",\"fill_alpha\":{\"value\":0.5},\"fill_color\":{\"value\":\"lightgrey\"},\"left_units\":\"screen\",\"level\":\"overlay\",\"line_alpha\":{\"value\":1.0},\"line_color\":{\"value\":\"black\"},\"line_dash\":[4,4],\"line_width\":{\"value\":2},\"plot\":null,\"render_mode\":\"css\",\"right_units\":\"screen\",\"top_units\":\"screen\"},\"id\":\"ddfd5887-6f73-41da-b2f2-2a0a6bccdfac\",\"type\":\"BoxAnnotation\"},{\"attributes\":{\"data_source\":{\"id\":\"c1d41f1b-93d9-40d5-8e50-855441975141\",\"type\":\"ColumnDataSource\"},\"glyph\":{\"id\":\"b2fb1629-eb31-4779-992e-08006b96ea60\",\"type\":\"Rect\"},\"hover_glyph\":null,\"nonselection_glyph\":null,\"selection_glyph\":null},\"id\":\"73e1aef5-7f1c-4d3b-833f-a317d5738972\",\"type\":\"GlyphRenderer\"},{\"attributes\":{\"fill_alpha\":{\"field\":\"fill_alpha\"},\"fill_color\":{\"field\":\"color\"},\"height\":{\"field\":\"height\",\"units\":\"data\"},\"line_color\":{\"field\":\"line_color\"},\"width\":{\"field\":\"width\",\"units\":\"data\"},\"x\":{\"field\":\"x\"},\"y\":{\"field\":\"y\"}},\"id\":\"618c2836-bff4-4076-8b4a-eb608489734d\",\"type\":\"Rect\"},{\"attributes\":{\"callback\":null,\"column_names\":[\"color\",\"label\",\"line_alpha\",\"height\",\"fill_alpha\",\"y\",\"x\",\"line_color\",\"width\"],\"data\":{\"chart_index\":[{\"index\":\"34\"}],\"color\":[\"#f22c40\"],\"fill_alpha\":[0.8],\"height\":[489.0],\"index\":[\"34\"],\"label\":[{\"index\":\"34\"}],\"line_alpha\":[1.0],\"line_color\":[\"white\"],\"width\":[0.8],\"x\":[\"34\"],\"y\":[244.5]}},\"id\":\"85b92d79-52bc-4e78-a928-950e2a70d32e\",\"type\":\"ColumnDataSource\"},{\"attributes\":{\"overlay\":{\"id\":\"ddfd5887-6f73-41da-b2f2-2a0a6bccdfac\",\"type\":\"BoxAnnotation\"},\"plot\":{\"id\":\"6f0f7a8d-4078-402d-b83b-c256b646d019\",\"subtype\":\"Chart\",\"type\":\"Plot\"}},\"id\":\"bffb92e4-f688-4a25-86c1-11ea670b8fbd\",\"type\":\"BoxZoomTool\"},{\"attributes\":{\"data_source\":{\"id\":\"ee73c906-197e-4d73-a65d-beabfd413769\",\"type\":\"ColumnDataSource\"},\"glyph\":{\"id\":\"b70a82b1-2978-40a7-803b-3e9a5df714e3\",\"type\":\"Rect\"},\"hover_glyph\":null,\"nonselection_glyph\":null,\"selection_glyph\":null},\"id\":\"1ffce055-d688-4350-bad3-3b2681eee851\",\"type\":\"GlyphRenderer\"},{\"attributes\":{\"fill_alpha\":{\"field\":\"fill_alpha\"},\"fill_color\":{\"field\":\"color\"},\"height\":{\"field\":\"height\",\"units\":\"data\"},\"line_color\":{\"field\":\"line_color\"},\"width\":{\"field\":\"width\",\"units\":\"data\"},\"x\":{\"field\":\"x\"},\"y\":{\"field\":\"y\"}},\"id\":\"a7ef77f6-1339-4b5c-be06-e6c495a5a28a\",\"type\":\"Rect\"},{\"attributes\":{\"callback\":null,\"column_names\":[\"color\",\"label\",\"line_alpha\",\"height\",\"fill_alpha\",\"y\",\"x\",\"line_color\",\"width\"],\"data\":{\"chart_index\":[{\"index\":\"13\"}],\"color\":[\"#f22c40\"],\"fill_alpha\":[0.8],\"height\":[4.0],\"index\":[\"13\"],\"label\":[{\"index\":\"13\"}],\"line_alpha\":[1.0],\"line_color\":[\"white\"],\"width\":[0.8],\"x\":[\"13\"],\"y\":[2.0]}},\"id\":\"85baaac9-be7b-4ee9-b61a-f4aaa85b552c\",\"type\":\"ColumnDataSource\"},{\"attributes\":{\"callback\":null,\"column_names\":[\"color\",\"label\",\"line_alpha\",\"height\",\"fill_alpha\",\"y\",\"x\",\"line_color\",\"width\"],\"data\":{\"chart_index\":[{\"index\":\"32\"}],\"color\":[\"#f22c40\"],\"fill_alpha\":[0.8],\"height\":[293.0],\"index\":[\"32\"],\"label\":[{\"index\":\"32\"}],\"line_alpha\":[1.0],\"line_color\":[\"white\"],\"width\":[0.8],\"x\":[\"32\"],\"y\":[146.5]}},\"id\":\"4346e163-0594-47d4-a116-703d274fe079\",\"type\":\"ColumnDataSource\"},{\"attributes\":{\"fill_alpha\":{\"field\":\"fill_alpha\"},\"fill_color\":{\"field\":\"color\"},\"height\":{\"field\":\"height\",\"units\":\"data\"},\"line_color\":{\"field\":\"line_color\"},\"width\":{\"field\":\"width\",\"units\":\"data\"},\"x\":{\"field\":\"x\"},\"y\":{\"field\":\"y\"}},\"id\":\"7f059e5c-d769-48a6-8545-c820051068bd\",\"type\":\"Rect\"},{\"attributes\":{\"callback\":null,\"column_names\":[\"color\",\"label\",\"line_alpha\",\"height\",\"fill_alpha\",\"y\",\"x\",\"line_color\",\"width\"],\"data\":{\"chart_index\":[{\"index\":\"28\"}],\"color\":[\"#f22c40\"],\"fill_alpha\":[0.8],\"height\":[7.0],\"index\":[\"28\"],\"label\":[{\"index\":\"28\"}],\"line_alpha\":[1.0],\"line_color\":[\"white\"],\"width\":[0.8],\"x\":[\"28\"],\"y\":[3.5]}},\"id\":\"6eb2a387-76b9-44fb-8f66-0614e2f71fdf\",\"type\":\"ColumnDataSource\"},{\"attributes\":{\"fill_alpha\":{\"field\":\"fill_alpha\"},\"fill_color\":{\"field\":\"color\"},\"height\":{\"field\":\"height\",\"units\":\"data\"},\"line_color\":{\"field\":\"line_color\"},\"width\":{\"field\":\"width\",\"units\":\"data\"},\"x\":{\"field\":\"x\"},\"y\":{\"field\":\"y\"}},\"id\":\"2ac53f9d-46f1-4a91-a145-463a33225d38\",\"type\":\"Rect\"},{\"attributes\":{\"callback\":null,\"column_names\":[\"color\",\"label\",\"line_alpha\",\"height\",\"fill_alpha\",\"y\",\"x\",\"line_color\",\"width\"],\"data\":{\"chart_index\":[{\"index\":\"33\"}],\"color\":[\"#f22c40\"],\"fill_alpha\":[0.8],\"height\":[390.0],\"index\":[\"33\"],\"label\":[{\"index\":\"33\"}],\"line_alpha\":[1.0],\"line_color\":[\"white\"],\"width\":[0.8],\"x\":[\"33\"],\"y\":[195.0]}},\"id\":\"f72ce260-86b1-4810-bfce-7e34fdf8a449\",\"type\":\"ColumnDataSource\"},{\"attributes\":{\"fill_alpha\":{\"field\":\"fill_alpha\"},\"fill_color\":{\"field\":\"color\"},\"height\":{\"field\":\"height\",\"units\":\"data\"},\"line_color\":{\"field\":\"line_color\"},\"width\":{\"field\":\"width\",\"units\":\"data\"},\"x\":{\"field\":\"x\"},\"y\":{\"field\":\"y\"}},\"id\":\"edb46faa-ba89-41f3-af6b-c7c47f13fb53\",\"type\":\"Rect\"},{\"attributes\":{\"data_source\":{\"id\":\"a9a4c959-d0c1-4815-ac7b-6db31eab4d10\",\"type\":\"ColumnDataSource\"},\"glyph\":{\"id\":\"a5423929-8f4c-4df8-8c7a-cbd1881c1c1d\",\"type\":\"Rect\"},\"hover_glyph\":null,\"nonselection_glyph\":null,\"selection_glyph\":null},\"id\":\"2812cf47-fbf2-4a67-a4b3-149374a68922\",\"type\":\"GlyphRenderer\"},{\"attributes\":{\"callback\":null,\"column_names\":[\"color\",\"label\",\"line_alpha\",\"height\",\"fill_alpha\",\"y\",\"x\",\"line_color\",\"width\"],\"data\":{\"chart_index\":[{\"index\":\"26\"}],\"color\":[\"#f22c40\"],\"fill_alpha\":[0.8],\"height\":[20.0],\"index\":[\"26\"],\"label\":[{\"index\":\"26\"}],\"line_alpha\":[1.0],\"line_color\":[\"white\"],\"width\":[0.8],\"x\":[\"26\"],\"y\":[10.0]}},\"id\":\"66980cb1-04a0-407c-8ff4-c3a0d9ab7dca\",\"type\":\"ColumnDataSource\"},{\"attributes\":{},\"id\":\"6a49c5bd-c65d-4d4a-8fc8-47cf54ba8b24\",\"type\":\"ToolEvents\"},{\"attributes\":{\"fill_alpha\":{\"field\":\"fill_alpha\"},\"fill_color\":{\"field\":\"color\"},\"height\":{\"field\":\"height\",\"units\":\"data\"},\"line_color\":{\"field\":\"line_color\"},\"width\":{\"field\":\"width\",\"units\":\"data\"},\"x\":{\"field\":\"x\"},\"y\":{\"field\":\"y\"}},\"id\":\"a5423929-8f4c-4df8-8c7a-cbd1881c1c1d\",\"type\":\"Rect\"},{\"attributes\":{\"data_source\":{\"id\":\"f5597570-8d1c-4070-a2ed-ce800fa659cb\",\"type\":\"ColumnDataSource\"},\"glyph\":{\"id\":\"89f661b1-6270-4664-821e-fe2577e3fece\",\"type\":\"Rect\"},\"hover_glyph\":null,\"nonselection_glyph\":null,\"selection_glyph\":null},\"id\":\"57bd3fb5-e0f4-4320-8d47-5c2426009f03\",\"type\":\"GlyphRenderer\"},{\"attributes\":{\"data_source\":{\"id\":\"ee382266-a1f6-425a-a34f-b42268f9a363\",\"type\":\"ColumnDataSource\"},\"glyph\":{\"id\":\"522da39d-dc90-41ff-b127-854034e6c104\",\"type\":\"Rect\"},\"hover_glyph\":null,\"nonselection_glyph\":null,\"selection_glyph\":null},\"id\":\"c4264a4b-269f-48fd-aeb1-c48b23c06abf\",\"type\":\"GlyphRenderer\"},{\"attributes\":{\"data_source\":{\"id\":\"66980cb1-04a0-407c-8ff4-c3a0d9ab7dca\",\"type\":\"ColumnDataSource\"},\"glyph\":{\"id\":\"5706bfbd-1aa6-4e8f-a5bf-6292a3b7eaff\",\"type\":\"Rect\"},\"hover_glyph\":null,\"nonselection_glyph\":null,\"selection_glyph\":null},\"id\":\"f83059cc-ee95-406f-aad6-574421a8155f\",\"type\":\"GlyphRenderer\"},{\"attributes\":{\"fill_alpha\":{\"field\":\"fill_alpha\"},\"fill_color\":{\"field\":\"color\"},\"height\":{\"field\":\"height\",\"units\":\"data\"},\"line_color\":{\"field\":\"line_color\"},\"width\":{\"field\":\"width\",\"units\":\"data\"},\"x\":{\"field\":\"x\"},\"y\":{\"field\":\"y\"}},\"id\":\"96a10878-70a7-4b96-bac2-8c53db2624fe\",\"type\":\"Rect\"},{\"attributes\":{\"callback\":null,\"column_names\":[\"color\",\"label\",\"line_alpha\",\"height\",\"fill_alpha\",\"y\",\"x\",\"line_color\",\"width\"],\"data\":{\"chart_index\":[{\"index\":\"39\"}],\"color\":[\"#f22c40\"],\"fill_alpha\":[0.8],\"height\":[4.0],\"index\":[\"39\"],\"label\":[{\"index\":\"39\"}],\"line_alpha\":[1.0],\"line_color\":[\"white\"],\"width\":[0.8],\"x\":[\"39\"],\"y\":[2.0]}},\"id\":\"c3f05b7c-17ac-490f-b833-9c2e2690186b\",\"type\":\"ColumnDataSource\"},{\"attributes\":{\"callback\":null,\"column_names\":[\"color\",\"label\",\"line_alpha\",\"height\",\"fill_alpha\",\"y\",\"x\",\"line_color\",\"width\"],\"data\":{\"chart_index\":[{\"index\":\"44\"}],\"color\":[\"#f22c40\"],\"fill_alpha\":[0.8],\"height\":[1.0],\"index\":[\"44\"],\"label\":[{\"index\":\"44\"}],\"line_alpha\":[1.0],\"line_color\":[\"white\"],\"width\":[0.8],\"x\":[\"44\"],\"y\":[0.5]}},\"id\":\"b3c4db0a-79a1-49bf-9320-28a4a27c4a34\",\"type\":\"ColumnDataSource\"},{\"attributes\":{\"data_source\":{\"id\":\"090d55fd-49f0-4ce0-9e00-6b3e990701ed\",\"type\":\"ColumnDataSource\"},\"glyph\":{\"id\":\"8eb8cc41-902d-477e-be8a-e218491667e5\",\"type\":\"Rect\"},\"hover_glyph\":null,\"nonselection_glyph\":null,\"selection_glyph\":null},\"id\":\"8746bf88-f2a2-470d-9bf2-427aad07ea05\",\"type\":\"GlyphRenderer\"},{\"attributes\":{\"fill_alpha\":{\"field\":\"fill_alpha\"},\"fill_color\":{\"field\":\"color\"},\"height\":{\"field\":\"height\",\"units\":\"data\"},\"line_color\":{\"field\":\"line_color\"},\"width\":{\"field\":\"width\",\"units\":\"data\"},\"x\":{\"field\":\"x\"},\"y\":{\"field\":\"y\"}},\"id\":\"c4789b1e-115c-498f-8f19-45f634af7bad\",\"type\":\"Rect\"},{\"attributes\":{\"callback\":null,\"column_names\":[\"color\",\"label\",\"line_alpha\",\"height\",\"fill_alpha\",\"y\",\"x\",\"line_color\",\"width\"],\"data\":{\"chart_index\":[{\"index\":\"29\"}],\"color\":[\"#f22c40\"],\"fill_alpha\":[0.8],\"height\":[104.0],\"index\":[\"29\"],\"label\":[{\"index\":\"29\"}],\"line_alpha\":[1.0],\"line_color\":[\"white\"],\"width\":[0.8],\"x\":[\"29\"],\"y\":[52.0]}},\"id\":\"ee382266-a1f6-425a-a34f-b42268f9a363\",\"type\":\"ColumnDataSource\"},{\"attributes\":{\"data_source\":{\"id\":\"79473d6c-cf10-4c6e-ae45-09ada5cd7e91\",\"type\":\"ColumnDataSource\"},\"glyph\":{\"id\":\"0cb5ebaa-dd9b-4ad0-9293-18090f4d5e1a\",\"type\":\"Rect\"},\"hover_glyph\":null,\"nonselection_glyph\":null,\"selection_glyph\":null},\"id\":\"f3c11219-d880-4421-a301-7b5ddc83d65e\",\"type\":\"GlyphRenderer\"},{\"attributes\":{\"fill_alpha\":{\"field\":\"fill_alpha\"},\"fill_color\":{\"field\":\"color\"},\"height\":{\"field\":\"height\",\"units\":\"data\"},\"line_color\":{\"field\":\"line_color\"},\"width\":{\"field\":\"width\",\"units\":\"data\"},\"x\":{\"field\":\"x\"},\"y\":{\"field\":\"y\"}},\"id\":\"f2f5770d-eecb-4f89-b61f-1e85a11e33f5\",\"type\":\"Rect\"},{\"attributes\":{\"fill_alpha\":{\"field\":\"fill_alpha\"},\"fill_color\":{\"field\":\"color\"},\"height\":{\"field\":\"height\",\"units\":\"data\"},\"line_color\":{\"field\":\"line_color\"},\"width\":{\"field\":\"width\",\"units\":\"data\"},\"x\":{\"field\":\"x\"},\"y\":{\"field\":\"y\"}},\"id\":\"056e832b-e194-4382-af0b-3147a0ff2c51\",\"type\":\"Rect\"},{\"attributes\":{\"data_source\":{\"id\":\"d602306b-f9af-48e0-9bf1-b12f5e3b3e27\",\"type\":\"ColumnDataSource\"},\"glyph\":{\"id\":\"42a7e6e9-52d8-4d3b-9ab0-061f814cefaf\",\"type\":\"Rect\"},\"hover_glyph\":null,\"nonselection_glyph\":null,\"selection_glyph\":null},\"id\":\"1b64b36d-0cd4-404a-8830-b4d74406c6cb\",\"type\":\"GlyphRenderer\"},{\"attributes\":{\"callback\":null,\"column_names\":[\"color\",\"label\",\"line_alpha\",\"height\",\"fill_alpha\",\"y\",\"x\",\"line_color\",\"width\"],\"data\":{\"chart_index\":[{\"index\":\"40\"}],\"color\":[\"#f22c40\"],\"fill_alpha\":[0.8],\"height\":[97.0],\"index\":[\"40\"],\"label\":[{\"index\":\"40\"}],\"line_alpha\":[1.0],\"line_color\":[\"white\"],\"width\":[0.8],\"x\":[\"40\"],\"y\":[48.5]}},\"id\":\"6d7dc4bf-0972-4fcc-bf95-501ee7828f43\",\"type\":\"ColumnDataSource\"},{\"attributes\":{\"callback\":null,\"column_names\":[\"color\",\"label\",\"line_alpha\",\"height\",\"fill_alpha\",\"y\",\"x\",\"line_color\",\"width\"],\"data\":{\"chart_index\":[{\"index\":\"18\"}],\"color\":[\"#f22c40\"],\"fill_alpha\":[0.8],\"height\":[186.0],\"index\":[\"18\"],\"label\":[{\"index\":\"18\"}],\"line_alpha\":[1.0],\"line_color\":[\"white\"],\"width\":[0.8],\"x\":[\"18\"],\"y\":[93.0]}},\"id\":\"6852fc2b-e725-4624-869c-cad053452810\",\"type\":\"ColumnDataSource\"},{\"attributes\":{\"callback\":null,\"column_names\":[\"color\",\"label\",\"line_alpha\",\"height\",\"fill_alpha\",\"y\",\"x\",\"line_color\",\"width\"],\"data\":{\"chart_index\":[{\"index\":\"12\"}],\"color\":[\"#f22c40\"],\"fill_alpha\":[0.8],\"height\":[26.0],\"index\":[\"12\"],\"label\":[{\"index\":\"12\"}],\"line_alpha\":[1.0],\"line_color\":[\"white\"],\"width\":[0.8],\"x\":[\"12\"],\"y\":[13.0]}},\"id\":\"427d69fc-413b-434c-9ab1-5a42a7da85b0\",\"type\":\"ColumnDataSource\"},{\"attributes\":{\"fill_alpha\":{\"field\":\"fill_alpha\"},\"fill_color\":{\"field\":\"color\"},\"height\":{\"field\":\"height\",\"units\":\"data\"},\"line_color\":{\"field\":\"line_color\"},\"width\":{\"field\":\"width\",\"units\":\"data\"},\"x\":{\"field\":\"x\"},\"y\":{\"field\":\"y\"}},\"id\":\"b2fb1629-eb31-4779-992e-08006b96ea60\",\"type\":\"Rect\"},{\"attributes\":{\"data_source\":{\"id\":\"427d69fc-413b-434c-9ab1-5a42a7da85b0\",\"type\":\"ColumnDataSource\"},\"glyph\":{\"id\":\"63500820-7bff-4173-9032-d79379fb603e\",\"type\":\"Rect\"},\"hover_glyph\":null,\"nonselection_glyph\":null,\"selection_glyph\":null},\"id\":\"392b73c5-acb9-4bb4-bfb3-ec67200a44e3\",\"type\":\"GlyphRenderer\"},{\"attributes\":{\"plot\":{\"id\":\"6f0f7a8d-4078-402d-b83b-c256b646d019\",\"subtype\":\"Chart\",\"type\":\"Plot\"}},\"id\":\"c9cb6b2d-cb94-4cc1-ac2b-1a8499d8dbc7\",\"type\":\"ResetTool\"},{\"attributes\":{\"data_source\":{\"id\":\"9960fa7c-4f5e-4f00-b6a8-5d11d909de2b\",\"type\":\"ColumnDataSource\"},\"glyph\":{\"id\":\"e4a52b8e-3d9d-40b1-bc54-9d466f0faa54\",\"type\":\"Rect\"},\"hover_glyph\":null,\"nonselection_glyph\":null,\"selection_glyph\":null},\"id\":\"5dd3847f-c027-48a9-a661-5c1e59829b70\",\"type\":\"GlyphRenderer\"},{\"attributes\":{\"fill_alpha\":{\"field\":\"fill_alpha\"},\"fill_color\":{\"field\":\"color\"},\"height\":{\"field\":\"height\",\"units\":\"data\"},\"line_color\":{\"field\":\"line_color\"},\"width\":{\"field\":\"width\",\"units\":\"data\"},\"x\":{\"field\":\"x\"},\"y\":{\"field\":\"y\"}},\"id\":\"8eb8cc41-902d-477e-be8a-e218491667e5\",\"type\":\"Rect\"},{\"attributes\":{\"fill_alpha\":{\"field\":\"fill_alpha\"},\"fill_color\":{\"field\":\"color\"},\"height\":{\"field\":\"height\",\"units\":\"data\"},\"line_color\":{\"field\":\"line_color\"},\"width\":{\"field\":\"width\",\"units\":\"data\"},\"x\":{\"field\":\"x\"},\"y\":{\"field\":\"y\"}},\"id\":\"3c9f5bd2-b68f-449e-b95e-c5cd848d9958\",\"type\":\"Rect\"},{\"attributes\":{\"data_source\":{\"id\":\"45b44363-b1fc-4622-a6c6-a9446a85a543\",\"type\":\"ColumnDataSource\"},\"glyph\":{\"id\":\"f5a45573-618c-4362-87f0-859c128e8c96\",\"type\":\"Rect\"},\"hover_glyph\":null,\"nonselection_glyph\":null,\"selection_glyph\":null},\"id\":\"ffec3079-d1b5-4d44-84ca-69b0ee18f556\",\"type\":\"GlyphRenderer\"},{\"attributes\":{\"dimension\":1,\"plot\":{\"id\":\"6f0f7a8d-4078-402d-b83b-c256b646d019\",\"subtype\":\"Chart\",\"type\":\"Plot\"},\"ticker\":{\"id\":\"b4de2f65-fe08-4c28-ae3c-71c5f16d8322\",\"type\":\"BasicTicker\"}},\"id\":\"460b466e-e040-4872-b270-dffe436cf3d4\",\"type\":\"Grid\"},{\"attributes\":{\"callback\":null,\"column_names\":[\"color\",\"label\",\"line_alpha\",\"height\",\"fill_alpha\",\"y\",\"x\",\"line_color\",\"width\"],\"data\":{\"chart_index\":[{\"index\":\"3\"}],\"color\":[\"#f22c40\"],\"fill_alpha\":[0.8],\"height\":[66.0],\"index\":[\"3\"],\"label\":[{\"index\":\"3\"}],\"line_alpha\":[1.0],\"line_color\":[\"white\"],\"width\":[0.8],\"x\":[\"3\"],\"y\":[33.0]}},\"id\":\"54f3e6bc-8632-492c-8132-fbec6c264324\",\"type\":\"ColumnDataSource\"},{\"attributes\":{\"fill_alpha\":{\"field\":\"fill_alpha\"},\"fill_color\":{\"field\":\"color\"},\"height\":{\"field\":\"height\",\"units\":\"data\"},\"line_color\":{\"field\":\"line_color\"},\"width\":{\"field\":\"width\",\"units\":\"data\"},\"x\":{\"field\":\"x\"},\"y\":{\"field\":\"y\"}},\"id\":\"66d772ee-1bcc-4d7a-8c18-4edb48a0209f\",\"type\":\"Rect\"},{\"attributes\":{\"data_source\":{\"id\":\"85baaac9-be7b-4ee9-b61a-f4aaa85b552c\",\"type\":\"ColumnDataSource\"},\"glyph\":{\"id\":\"3965a1a4-1ff0-4ab2-8f0b-9ba73933da0d\",\"type\":\"Rect\"},\"hover_glyph\":null,\"nonselection_glyph\":null,\"selection_glyph\":null},\"id\":\"28ea47d6-ed52-44dd-81ee-f543d2aa5246\",\"type\":\"GlyphRenderer\"},{\"attributes\":{\"data_source\":{\"id\":\"7c692858-f3b2-4833-b677-abfdaed5bc25\",\"type\":\"ColumnDataSource\"},\"glyph\":{\"id\":\"061fcc9e-2e04-4658-83e2-5cfec2c4b4c8\",\"type\":\"Rect\"},\"hover_glyph\":null,\"nonselection_glyph\":null,\"selection_glyph\":null},\"id\":\"2916d944-02d0-4263-9f6c-97514ab5eacc\",\"type\":\"GlyphRenderer\"},{\"attributes\":{\"callback\":null,\"column_names\":[\"color\",\"label\",\"line_alpha\",\"height\",\"fill_alpha\",\"y\",\"x\",\"line_color\",\"width\"],\"data\":{\"chart_index\":[{\"index\":\"41\"}],\"color\":[\"#f22c40\"],\"fill_alpha\":[0.8],\"height\":[213.0],\"index\":[\"41\"],\"label\":[{\"index\":\"41\"}],\"line_alpha\":[1.0],\"line_color\":[\"white\"],\"width\":[0.8],\"x\":[\"41\"],\"y\":[106.5]}},\"id\":\"a0f485ba-c923-4545-aa94-9438994682c2\",\"type\":\"ColumnDataSource\"},{\"attributes\":{\"data_source\":{\"id\":\"d32e9a59-ebcf-4353-bc69-0f1f22d7b9ca\",\"type\":\"ColumnDataSource\"},\"glyph\":{\"id\":\"957b3df8-36dd-49a5-8c9b-5068e7cf06ee\",\"type\":\"Rect\"},\"hover_glyph\":null,\"nonselection_glyph\":null,\"selection_glyph\":null},\"id\":\"23745fef-cf27-4cc3-8a0a-cac91807ca2b\",\"type\":\"GlyphRenderer\"},{\"attributes\":{\"fill_alpha\":{\"field\":\"fill_alpha\"},\"fill_color\":{\"field\":\"color\"},\"height\":{\"field\":\"height\",\"units\":\"data\"},\"line_color\":{\"field\":\"line_color\"},\"width\":{\"field\":\"width\",\"units\":\"data\"},\"x\":{\"field\":\"x\"},\"y\":{\"field\":\"y\"}},\"id\":\"4839ffd5-3743-44e6-9528-52496c8482d3\",\"type\":\"Rect\"},{\"attributes\":{\"data_source\":{\"id\":\"eead412a-3729-4f17-970b-ccb716418c15\",\"type\":\"ColumnDataSource\"},\"glyph\":{\"id\":\"58fa6ea2-3328-4fd1-a98b-4524f6c569ae\",\"type\":\"Rect\"},\"hover_glyph\":null,\"nonselection_glyph\":null,\"selection_glyph\":null},\"id\":\"e845842c-3793-4bc1-84e5-9ff8700fb5a6\",\"type\":\"GlyphRenderer\"},{\"attributes\":{\"callback\":null,\"column_names\":[\"color\",\"label\",\"line_alpha\",\"height\",\"fill_alpha\",\"y\",\"x\",\"line_color\",\"width\"],\"data\":{\"chart_index\":[{\"index\":\"22\"}],\"color\":[\"#f22c40\"],\"fill_alpha\":[0.8],\"height\":[46.0],\"index\":[\"22\"],\"label\":[{\"index\":\"22\"}],\"line_alpha\":[1.0],\"line_color\":[\"white\"],\"width\":[0.8],\"x\":[\"22\"],\"y\":[23.0]}},\"id\":\"6b2d4522-f763-4dc3-9a92-1d6eb0e1f746\",\"type\":\"ColumnDataSource\"},{\"attributes\":{\"callback\":null,\"column_names\":[\"color\",\"label\",\"line_alpha\",\"height\",\"fill_alpha\",\"y\",\"x\",\"line_color\",\"width\"],\"data\":{\"chart_index\":[{\"index\":\"16\"}],\"color\":[\"#f22c40\"],\"fill_alpha\":[0.8],\"height\":[61.0],\"index\":[\"16\"],\"label\":[{\"index\":\"16\"}],\"line_alpha\":[1.0],\"line_color\":[\"white\"],\"width\":[0.8],\"x\":[\"16\"],\"y\":[30.5]}},\"id\":\"f0c2e52e-09ee-4a89-8c3c-e6222ea6e881\",\"type\":\"ColumnDataSource\"},{\"attributes\":{\"callback\":null,\"column_names\":[\"color\",\"label\",\"line_alpha\",\"height\",\"fill_alpha\",\"y\",\"x\",\"line_color\",\"width\"],\"data\":{\"chart_index\":[{\"index\":\"20\"}],\"color\":[\"#f22c40\"],\"fill_alpha\":[0.8],\"height\":[1.0],\"index\":[\"20\"],\"label\":[{\"index\":\"20\"}],\"line_alpha\":[1.0],\"line_color\":[\"white\"],\"width\":[0.8],\"x\":[\"20\"],\"y\":[0.5]}},\"id\":\"a9a4c959-d0c1-4815-ac7b-6db31eab4d10\",\"type\":\"ColumnDataSource\"},{\"attributes\":{\"data_source\":{\"id\":\"6d7dc4bf-0972-4fcc-bf95-501ee7828f43\",\"type\":\"ColumnDataSource\"},\"glyph\":{\"id\":\"fa85988a-6c0d-4dc0-8be7-ef21c0b735e2\",\"type\":\"Rect\"},\"hover_glyph\":null,\"nonselection_glyph\":null,\"selection_glyph\":null},\"id\":\"ddc06e96-a840-472c-aeb6-ac72f9886d28\",\"type\":\"GlyphRenderer\"},{\"attributes\":{\"callback\":null,\"column_names\":[\"color\",\"label\",\"line_alpha\",\"height\",\"fill_alpha\",\"y\",\"x\",\"line_color\",\"width\"],\"data\":{\"chart_index\":[{\"index\":\"1\"}],\"color\":[\"#f22c40\"],\"fill_alpha\":[0.8],\"height\":[4.0],\"index\":[\"1\"],\"label\":[{\"index\":\"1\"}],\"line_alpha\":[1.0],\"line_color\":[\"white\"],\"width\":[0.8],\"x\":[\"1\"],\"y\":[2.0]}},\"id\":\"7d6f4198-36c1-4828-b6c5-6de511d2d9a3\",\"type\":\"ColumnDataSource\"},{\"attributes\":{\"callback\":null,\"column_names\":[\"color\",\"label\",\"line_alpha\",\"height\",\"fill_alpha\",\"y\",\"x\",\"line_color\",\"width\"],\"data\":{\"chart_index\":[{\"index\":\"9\"}],\"color\":[\"#f22c40\"],\"fill_alpha\":[0.8],\"height\":[14.0],\"index\":[\"9\"],\"label\":[{\"index\":\"9\"}],\"line_alpha\":[1.0],\"line_color\":[\"white\"],\"width\":[0.8],\"x\":[\"9\"],\"y\":[7.0]}},\"id\":\"a350eebc-1d5a-4afb-9fd7-1d35058a29ba\",\"type\":\"ColumnDataSource\"},{\"attributes\":{\"fill_alpha\":{\"field\":\"fill_alpha\"},\"fill_color\":{\"field\":\"color\"},\"height\":{\"field\":\"height\",\"units\":\"data\"},\"line_color\":{\"field\":\"line_color\"},\"width\":{\"field\":\"width\",\"units\":\"data\"},\"x\":{\"field\":\"x\"},\"y\":{\"field\":\"y\"}},\"id\":\"fa85988a-6c0d-4dc0-8be7-ef21c0b735e2\",\"type\":\"Rect\"},{\"attributes\":{\"data_source\":{\"id\":\"f72ce260-86b1-4810-bfce-7e34fdf8a449\",\"type\":\"ColumnDataSource\"},\"glyph\":{\"id\":\"6ece1d9c-3e45-4be2-900d-6b9fd18786e4\",\"type\":\"Rect\"},\"hover_glyph\":null,\"nonselection_glyph\":null,\"selection_glyph\":null},\"id\":\"fe4d9ef5-076c-436e-82d6-db797bee1ca8\",\"type\":\"GlyphRenderer\"},{\"attributes\":{\"callback\":null,\"column_names\":[\"color\",\"label\",\"line_alpha\",\"height\",\"fill_alpha\",\"y\",\"x\",\"line_color\",\"width\"],\"data\":{\"chart_index\":[{\"index\":\"25\"}],\"color\":[\"#f22c40\"],\"fill_alpha\":[0.8],\"height\":[1.0],\"index\":[\"25\"],\"label\":[{\"index\":\"25\"}],\"line_alpha\":[1.0],\"line_color\":[\"white\"],\"width\":[0.8],\"x\":[\"25\"],\"y\":[0.5]}},\"id\":\"090d55fd-49f0-4ce0-9e00-6b3e990701ed\",\"type\":\"ColumnDataSource\"},{\"attributes\":{\"fill_alpha\":{\"field\":\"fill_alpha\"},\"fill_color\":{\"field\":\"color\"},\"height\":{\"field\":\"height\",\"units\":\"data\"},\"line_color\":{\"field\":\"line_color\"},\"width\":{\"field\":\"width\",\"units\":\"data\"},\"x\":{\"field\":\"x\"},\"y\":{\"field\":\"y\"}},\"id\":\"957b3df8-36dd-49a5-8c9b-5068e7cf06ee\",\"type\":\"Rect\"},{\"attributes\":{\"callback\":null,\"column_names\":[\"color\",\"label\",\"line_alpha\",\"height\",\"fill_alpha\",\"y\",\"x\",\"line_color\",\"width\"],\"data\":{\"chart_index\":[{\"index\":\"17\"}],\"color\":[\"#f22c40\"],\"fill_alpha\":[0.8],\"height\":[2.0],\"index\":[\"17\"],\"label\":[{\"index\":\"17\"}],\"line_alpha\":[1.0],\"line_color\":[\"white\"],\"width\":[0.8],\"x\":[\"17\"],\"y\":[1.0]}},\"id\":\"1a897c08-74e2-4f21-8233-74a7b9358886\",\"type\":\"ColumnDataSource\"},{\"attributes\":{\"callback\":null,\"column_names\":[\"color\",\"label\",\"line_alpha\",\"height\",\"fill_alpha\",\"y\",\"x\",\"line_color\",\"width\"],\"data\":{\"chart_index\":[{\"index\":\"30\"}],\"color\":[\"#f22c40\"],\"fill_alpha\":[0.8],\"height\":[82.0],\"index\":[\"30\"],\"label\":[{\"index\":\"30\"}],\"line_alpha\":[1.0],\"line_color\":[\"white\"],\"width\":[0.8],\"x\":[\"30\"],\"y\":[41.0]}},\"id\":\"eead412a-3729-4f17-970b-ccb716418c15\",\"type\":\"ColumnDataSource\"},{\"attributes\":{\"fill_alpha\":{\"field\":\"fill_alpha\"},\"fill_color\":{\"field\":\"color\"},\"height\":{\"field\":\"height\",\"units\":\"data\"},\"line_color\":{\"field\":\"line_color\"},\"width\":{\"field\":\"width\",\"units\":\"data\"},\"x\":{\"field\":\"x\"},\"y\":{\"field\":\"y\"}},\"id\":\"0957f499-a771-40b2-bad6-3dfd1153c764\",\"type\":\"Rect\"},{\"attributes\":{\"callback\":null,\"column_names\":[\"color\",\"label\",\"line_alpha\",\"height\",\"fill_alpha\",\"y\",\"x\",\"line_color\",\"width\"],\"data\":{\"chart_index\":[{\"index\":\"43\"}],\"color\":[\"#f22c40\"],\"fill_alpha\":[0.8],\"height\":[60.0],\"index\":[\"43\"],\"label\":[{\"index\":\"43\"}],\"line_alpha\":[1.0],\"line_color\":[\"white\"],\"width\":[0.8],\"x\":[\"43\"],\"y\":[30.0]}},\"id\":\"d32e9a59-ebcf-4353-bc69-0f1f22d7b9ca\",\"type\":\"ColumnDataSource\"},{\"attributes\":{\"callback\":null,\"column_names\":[\"color\",\"label\",\"line_alpha\",\"height\",\"fill_alpha\",\"y\",\"x\",\"line_color\",\"width\"],\"data\":{\"chart_index\":[{\"index\":\"36\"}],\"color\":[\"#f22c40\"],\"fill_alpha\":[0.8],\"height\":[150.0],\"index\":[\"36\"],\"label\":[{\"index\":\"36\"}],\"line_alpha\":[1.0],\"line_color\":[\"white\"],\"width\":[0.8],\"x\":[\"36\"],\"y\":[75.0]}},\"id\":\"0a541ea5-1569-4d3b-accf-ab02954bc1c6\",\"type\":\"ColumnDataSource\"},{\"attributes\":{\"plot\":{\"id\":\"6f0f7a8d-4078-402d-b83b-c256b646d019\",\"subtype\":\"Chart\",\"type\":\"Plot\"}},\"id\":\"5eb82a47-3b3e-4d9e-85b9-e8356c644ea0\",\"type\":\"HelpTool\"},{\"attributes\":{\"callback\":null,\"column_names\":[\"color\",\"label\",\"line_alpha\",\"height\",\"fill_alpha\",\"y\",\"x\",\"line_color\",\"width\"],\"data\":{\"chart_index\":[{\"index\":\"14\"}],\"color\":[\"#f22c40\"],\"fill_alpha\":[0.8],\"height\":[16.0],\"index\":[\"14\"],\"label\":[{\"index\":\"14\"}],\"line_alpha\":[1.0],\"line_color\":[\"white\"],\"width\":[0.8],\"x\":[\"14\"],\"y\":[8.0]}},\"id\":\"554ed164-7ac1-4f69-835a-92c2839ed8ad\",\"type\":\"ColumnDataSource\"},{\"attributes\":{\"data_source\":{\"id\":\"6281aa7a-72bd-4247-8f01-55f2cd919900\",\"type\":\"ColumnDataSource\"},\"glyph\":{\"id\":\"4839ffd5-3743-44e6-9528-52496c8482d3\",\"type\":\"Rect\"},\"hover_glyph\":null,\"nonselection_glyph\":null,\"selection_glyph\":null},\"id\":\"67b92acd-5fd4-4a2f-a917-687f9b9b0529\",\"type\":\"GlyphRenderer\"},{\"attributes\":{\"fill_alpha\":{\"field\":\"fill_alpha\"},\"fill_color\":{\"field\":\"color\"},\"height\":{\"field\":\"height\",\"units\":\"data\"},\"line_color\":{\"field\":\"line_color\"},\"width\":{\"field\":\"width\",\"units\":\"data\"},\"x\":{\"field\":\"x\"},\"y\":{\"field\":\"y\"}},\"id\":\"522da39d-dc90-41ff-b127-854034e6c104\",\"type\":\"Rect\"},{\"attributes\":{\"fill_alpha\":{\"field\":\"fill_alpha\"},\"fill_color\":{\"field\":\"color\"},\"height\":{\"field\":\"height\",\"units\":\"data\"},\"line_color\":{\"field\":\"line_color\"},\"width\":{\"field\":\"width\",\"units\":\"data\"},\"x\":{\"field\":\"x\"},\"y\":{\"field\":\"y\"}},\"id\":\"b70a82b1-2978-40a7-803b-3e9a5df714e3\",\"type\":\"Rect\"},{\"attributes\":{\"fill_alpha\":{\"field\":\"fill_alpha\"},\"fill_color\":{\"field\":\"color\"},\"height\":{\"field\":\"height\",\"units\":\"data\"},\"line_color\":{\"field\":\"line_color\"},\"width\":{\"field\":\"width\",\"units\":\"data\"},\"x\":{\"field\":\"x\"},\"y\":{\"field\":\"y\"}},\"id\":\"e4a52b8e-3d9d-40b1-bc54-9d466f0faa54\",\"type\":\"Rect\"},{\"attributes\":{\"callback\":null,\"column_names\":[\"color\",\"label\",\"line_alpha\",\"height\",\"fill_alpha\",\"y\",\"x\",\"line_color\",\"width\"],\"data\":{\"chart_index\":[{\"index\":\"38\"}],\"color\":[\"#f22c40\"],\"fill_alpha\":[0.8],\"height\":[374.0],\"index\":[\"38\"],\"label\":[{\"index\":\"38\"}],\"line_alpha\":[1.0],\"line_color\":[\"white\"],\"width\":[0.8],\"x\":[\"38\"],\"y\":[187.0]}},\"id\":\"9960fa7c-4f5e-4f00-b6a8-5d11d909de2b\",\"type\":\"ColumnDataSource\"},{\"attributes\":{\"fill_alpha\":{\"field\":\"fill_alpha\"},\"fill_color\":{\"field\":\"color\"},\"height\":{\"field\":\"height\",\"units\":\"data\"},\"line_color\":{\"field\":\"line_color\"},\"width\":{\"field\":\"width\",\"units\":\"data\"},\"x\":{\"field\":\"x\"},\"y\":{\"field\":\"y\"}},\"id\":\"1aead1bf-0b5f-44b8-b0bd-f496f6bfa10b\",\"type\":\"Rect\"},{\"attributes\":{\"fill_alpha\":{\"field\":\"fill_alpha\"},\"fill_color\":{\"field\":\"color\"},\"height\":{\"field\":\"height\",\"units\":\"data\"},\"line_color\":{\"field\":\"line_color\"},\"width\":{\"field\":\"width\",\"units\":\"data\"},\"x\":{\"field\":\"x\"},\"y\":{\"field\":\"y\"}},\"id\":\"58fa6ea2-3328-4fd1-a98b-4524f6c569ae\",\"type\":\"Rect\"},{\"attributes\":{\"fill_alpha\":{\"field\":\"fill_alpha\"},\"fill_color\":{\"field\":\"color\"},\"height\":{\"field\":\"height\",\"units\":\"data\"},\"line_color\":{\"field\":\"line_color\"},\"width\":{\"field\":\"width\",\"units\":\"data\"},\"x\":{\"field\":\"x\"},\"y\":{\"field\":\"y\"}},\"id\":\"5ae14d97-9ef3-4e77-9c1b-640082f706b4\",\"type\":\"Rect\"},{\"attributes\":{\"data_source\":{\"id\":\"a0f485ba-c923-4545-aa94-9438994682c2\",\"type\":\"ColumnDataSource\"},\"glyph\":{\"id\":\"a7ef77f6-1339-4b5c-be06-e6c495a5a28a\",\"type\":\"Rect\"},\"hover_glyph\":null,\"nonselection_glyph\":null,\"selection_glyph\":null},\"id\":\"82d2b5e0-ccfc-4308-bee9-9394f59a9061\",\"type\":\"GlyphRenderer\"},{\"attributes\":{\"data_source\":{\"id\":\"6852fc2b-e725-4624-869c-cad053452810\",\"type\":\"ColumnDataSource\"},\"glyph\":{\"id\":\"2ac53f9d-46f1-4a91-a145-463a33225d38\",\"type\":\"Rect\"},\"hover_glyph\":null,\"nonselection_glyph\":null,\"selection_glyph\":null},\"id\":\"dc67dc10-fc3e-4b24-807b-56ce8735cac2\",\"type\":\"GlyphRenderer\"},{\"attributes\":{\"axis_label\":\"Sum( Count )\",\"formatter\":{\"id\":\"4cb09b51-4b3c-43b6-91ba-86cafdc8b151\",\"type\":\"BasicTickFormatter\"},\"plot\":{\"id\":\"6f0f7a8d-4078-402d-b83b-c256b646d019\",\"subtype\":\"Chart\",\"type\":\"Plot\"},\"ticker\":{\"id\":\"b4de2f65-fe08-4c28-ae3c-71c5f16d8322\",\"type\":\"BasicTicker\"}},\"id\":\"249259fd-9bd3-4070-930d-5c46d27dbae4\",\"type\":\"LinearAxis\"},{\"attributes\":{\"data_source\":{\"id\":\"554ed164-7ac1-4f69-835a-92c2839ed8ad\",\"type\":\"ColumnDataSource\"},\"glyph\":{\"id\":\"f2f5770d-eecb-4f89-b61f-1e85a11e33f5\",\"type\":\"Rect\"},\"hover_glyph\":null,\"nonselection_glyph\":null,\"selection_glyph\":null},\"id\":\"11a803ed-c524-4cb0-ae06-9253f8871d47\",\"type\":\"GlyphRenderer\"},{\"attributes\":{\"data_source\":{\"id\":\"a350eebc-1d5a-4afb-9fd7-1d35058a29ba\",\"type\":\"ColumnDataSource\"},\"glyph\":{\"id\":\"d2aa6fcd-8fe1-4114-ba4d-be1e84a3c486\",\"type\":\"Rect\"},\"hover_glyph\":null,\"nonselection_glyph\":null,\"selection_glyph\":null},\"id\":\"fffdc93c-161e-410e-b2fd-cca7814e33e9\",\"type\":\"GlyphRenderer\"}],\"root_ids\":[\"6f0f7a8d-4078-402d-b83b-c256b646d019\"]},\"title\":\"Bokeh Application\",\"version\":\"0.12.0\"}};\n",
       "            var render_items = [{\"docid\":\"b8749037-af5f-4f5b-aac0-d32ffe62e563\",\"elementid\":\"073b413a-d5c2-4a13-b2cc-d06985fec498\",\"modelid\":\"6f0f7a8d-4078-402d-b83b-c256b646d019\",\"notebook_comms_target\":\"cab261af-0cdc-47f8-a867-27b87571be2c\"}];\n",
       "            \n",
       "            Bokeh.embed.embed_items(docs_json, render_items);\n",
       "        });\n",
       "      },\n",
       "      function(Bokeh) {\n",
       "      }\n",
       "    ];\n",
       "  \n",
       "    function run_inline_js() {\n",
       "      for (var i = 0; i < inline_js.length; i++) {\n",
       "        inline_js[i](window.Bokeh);\n",
       "      }\n",
       "    }\n",
       "  \n",
       "    if (window._bokeh_is_loading === 0) {\n",
       "      console.log(\"Bokeh: BokehJS loaded, going straight to plotting\");\n",
       "      run_inline_js();\n",
       "    } else {\n",
       "      load_libs(js_urls, function() {\n",
       "        console.log(\"Bokeh: BokehJS plotting callback run at\", now());\n",
       "        run_inline_js();\n",
       "      });\n",
       "    }\n",
       "  }(this));\n",
       "</script>"
      ]
     },
     "metadata": {},
     "output_type": "display_data"
    },
    {
     "data": {
      "text/html": [
       "<p><code>&lt;Bokeh Notebook handle for <strong>In[7]</strong>&gt;</code></p>"
      ],
      "text/plain": [
       "<bokeh.io._CommsHandle at 0x7fc40fb588d0>"
      ]
     },
     "execution_count": 7,
     "metadata": {},
     "output_type": "execute_result"
    }
   ],
   "source": [
    "\n"
   ]
  }
 ],
 "metadata": {
  "anaconda-cloud": {},
  "kernelspec": {
   "display_name": "Python [Root]",
   "language": "python",
   "name": "Python [Root]"
  },
  "language_info": {
   "codemirror_mode": {
    "name": "ipython",
    "version": 3
   },
   "file_extension": ".py",
   "mimetype": "text/x-python",
   "name": "python",
   "nbconvert_exporter": "python",
   "pygments_lexer": "ipython3",
   "version": "3.5.2"
  }
 },
 "nbformat": 4,
 "nbformat_minor": 0
}
