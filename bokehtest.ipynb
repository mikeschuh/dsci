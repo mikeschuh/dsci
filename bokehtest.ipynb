{
 "cells": [
  {
   "cell_type": "code",
   "execution_count": 2,
   "metadata": {
    "collapsed": true
   },
   "outputs": [],
   "source": [
    "from bokeh.plotting import figure, output_notebook, show\n"
   ]
  },
  {
   "cell_type": "code",
   "execution_count": 4,
   "metadata": {
    "collapsed": false
   },
   "outputs": [
    {
     "data": {
      "text/html": [
       "\n",
       "    <div class=\"bk-root\">\n",
       "        <a href=\"http://bokeh.pydata.org\" target=\"_blank\" class=\"bk-logo bk-logo-small bk-logo-notebook\"></a>\n",
       "        <span id=\"629bc469-4595-428b-b734-c59f44c5e46f\">Loading BokehJS ...</span>\n",
       "    </div>"
      ]
     },
     "metadata": {},
     "output_type": "display_data"
    },
    {
     "data": {
      "application/javascript": [
       "\n",
       "(function(global) {\n",
       "  function now() {\n",
       "    return new Date();\n",
       "  }\n",
       "\n",
       "  if (typeof (window._bokeh_onload_callbacks) === \"undefined\") {\n",
       "    window._bokeh_onload_callbacks = [];\n",
       "  }\n",
       "\n",
       "  function run_callbacks() {\n",
       "    window._bokeh_onload_callbacks.forEach(function(callback) { callback() });\n",
       "    delete window._bokeh_onload_callbacks\n",
       "    console.info(\"Bokeh: all callbacks have finished\");\n",
       "  }\n",
       "\n",
       "  function load_libs(js_urls, callback) {\n",
       "    window._bokeh_onload_callbacks.push(callback);\n",
       "    if (window._bokeh_is_loading > 0) {\n",
       "      console.log(\"Bokeh: BokehJS is being loaded, scheduling callback at\", now());\n",
       "      return null;\n",
       "    }\n",
       "    if (js_urls == null || js_urls.length === 0) {\n",
       "      run_callbacks();\n",
       "      return null;\n",
       "    }\n",
       "    console.log(\"Bokeh: BokehJS not loaded, scheduling load and callback at\", now());\n",
       "    window._bokeh_is_loading = js_urls.length;\n",
       "    for (var i = 0; i < js_urls.length; i++) {\n",
       "      var url = js_urls[i];\n",
       "      var s = document.createElement('script');\n",
       "      s.src = url;\n",
       "      s.async = false;\n",
       "      s.onreadystatechange = s.onload = function() {\n",
       "        window._bokeh_is_loading--;\n",
       "        if (window._bokeh_is_loading === 0) {\n",
       "          console.log(\"Bokeh: all BokehJS libraries loaded\");\n",
       "          run_callbacks()\n",
       "        }\n",
       "      };\n",
       "      s.onerror = function() {\n",
       "        console.warn(\"failed to load library \" + url);\n",
       "      };\n",
       "      console.log(\"Bokeh: injecting script tag for BokehJS library: \", url);\n",
       "      document.getElementsByTagName(\"head\")[0].appendChild(s);\n",
       "    }\n",
       "  };\n",
       "\n",
       "  var js_urls = ['https://cdn.pydata.org/bokeh/release/bokeh-0.12.0.min.js', 'https://cdn.pydata.org/bokeh/release/bokeh-widgets-0.12.0.min.js', 'https://cdn.pydata.org/bokeh/release/bokeh-compiler-0.12.0.min.js'];\n",
       "\n",
       "  var inline_js = [\n",
       "    function(Bokeh) {\n",
       "      Bokeh.set_log_level(\"info\");\n",
       "    },\n",
       "    \n",
       "    function(Bokeh) {\n",
       "      Bokeh.$(\"#629bc469-4595-428b-b734-c59f44c5e46f\").text(\"BokehJS successfully loaded\");\n",
       "    },\n",
       "    function(Bokeh) {\n",
       "      console.log(\"Bokeh: injecting CSS: https://cdn.pydata.org/bokeh/release/bokeh-0.12.0.min.css\");\n",
       "      Bokeh.embed.inject_css(\"https://cdn.pydata.org/bokeh/release/bokeh-0.12.0.min.css\");\n",
       "      console.log(\"Bokeh: injecting CSS: https://cdn.pydata.org/bokeh/release/bokeh-widgets-0.12.0.min.css\");\n",
       "      Bokeh.embed.inject_css(\"https://cdn.pydata.org/bokeh/release/bokeh-widgets-0.12.0.min.css\");\n",
       "    }\n",
       "  ];\n",
       "\n",
       "  function run_inline_js() {\n",
       "    for (var i = 0; i < inline_js.length; i++) {\n",
       "      inline_js[i](window.Bokeh);\n",
       "    }\n",
       "  }\n",
       "\n",
       "  if (window._bokeh_is_loading === 0) {\n",
       "    console.log(\"Bokeh: BokehJS loaded, going straight to plotting\");\n",
       "    run_inline_js();\n",
       "  } else {\n",
       "    load_libs(js_urls, function() {\n",
       "      console.log(\"Bokeh: BokehJS plotting callback run at\", now());\n",
       "      run_inline_js();\n",
       "    });\n",
       "  }\n",
       "}(this));"
      ]
     },
     "metadata": {},
     "output_type": "display_data"
    }
   ],
   "source": [
    "output_notebook()"
   ]
  },
  {
   "cell_type": "code",
   "execution_count": 5,
   "metadata": {
    "collapsed": true
   },
   "outputs": [],
   "source": [
    "from numpy import cos, linspace\n",
    "x = linspace(-6, 6, 100)\n",
    "y = cos(x)"
   ]
  },
  {
   "cell_type": "code",
   "execution_count": 6,
   "metadata": {
    "collapsed": false
   },
   "outputs": [
    {
     "data": {
      "text/html": [
       "\n",
       "\n",
       "    <div class=\"bk-root\">\n",
       "        <div class=\"plotdiv\" id=\"492f55b7-b8de-47cc-95df-e64143ce9191\"></div>\n",
       "    </div>\n",
       "<script type=\"text/javascript\">\n",
       "  \n",
       "  (function(global) {\n",
       "    function now() {\n",
       "      return new Date();\n",
       "    }\n",
       "  \n",
       "    if (typeof (window._bokeh_onload_callbacks) === \"undefined\") {\n",
       "      window._bokeh_onload_callbacks = [];\n",
       "    }\n",
       "  \n",
       "    function run_callbacks() {\n",
       "      window._bokeh_onload_callbacks.forEach(function(callback) { callback() });\n",
       "      delete window._bokeh_onload_callbacks\n",
       "      console.info(\"Bokeh: all callbacks have finished\");\n",
       "    }\n",
       "  \n",
       "    function load_libs(js_urls, callback) {\n",
       "      window._bokeh_onload_callbacks.push(callback);\n",
       "      if (window._bokeh_is_loading > 0) {\n",
       "        console.log(\"Bokeh: BokehJS is being loaded, scheduling callback at\", now());\n",
       "        return null;\n",
       "      }\n",
       "      if (js_urls == null || js_urls.length === 0) {\n",
       "        run_callbacks();\n",
       "        return null;\n",
       "      }\n",
       "      console.log(\"Bokeh: BokehJS not loaded, scheduling load and callback at\", now());\n",
       "      window._bokeh_is_loading = js_urls.length;\n",
       "      for (var i = 0; i < js_urls.length; i++) {\n",
       "        var url = js_urls[i];\n",
       "        var s = document.createElement('script');\n",
       "        s.src = url;\n",
       "        s.async = false;\n",
       "        s.onreadystatechange = s.onload = function() {\n",
       "          window._bokeh_is_loading--;\n",
       "          if (window._bokeh_is_loading === 0) {\n",
       "            console.log(\"Bokeh: all BokehJS libraries loaded\");\n",
       "            run_callbacks()\n",
       "          }\n",
       "        };\n",
       "        s.onerror = function() {\n",
       "          console.warn(\"failed to load library \" + url);\n",
       "        };\n",
       "        console.log(\"Bokeh: injecting script tag for BokehJS library: \", url);\n",
       "        document.getElementsByTagName(\"head\")[0].appendChild(s);\n",
       "      }\n",
       "    };var element = document.getElementById(\"492f55b7-b8de-47cc-95df-e64143ce9191\");\n",
       "    if (element == null) {\n",
       "      console.log(\"Bokeh: ERROR: autoload.js configured with elementid '492f55b7-b8de-47cc-95df-e64143ce9191' but no matching script tag was found. \")\n",
       "      return false;\n",
       "    }\n",
       "  \n",
       "    var js_urls = [];\n",
       "  \n",
       "    var inline_js = [\n",
       "      function(Bokeh) {\n",
       "        Bokeh.$(function() {\n",
       "            var docs_json = {\"fd850ba6-0f99-4519-806c-5642b74ca63f\":{\"roots\":{\"references\":[{\"attributes\":{\"formatter\":{\"id\":\"16c09a1c-7eae-43d7-8c97-fe048814b1df\",\"type\":\"BasicTickFormatter\"},\"plot\":{\"id\":\"e0aec04a-23a1-4092-865c-886b49bbacd5\",\"subtype\":\"Figure\",\"type\":\"Plot\"},\"ticker\":{\"id\":\"896afac9-61b8-41df-9793-f2931924e896\",\"type\":\"BasicTicker\"}},\"id\":\"a2badc31-3044-4fd3-b77c-b248dd6d99b0\",\"type\":\"LinearAxis\"},{\"attributes\":{\"overlay\":{\"id\":\"7e9d5178-7560-485f-96c3-8a161160075c\",\"type\":\"BoxAnnotation\"},\"plot\":{\"id\":\"e0aec04a-23a1-4092-865c-886b49bbacd5\",\"subtype\":\"Figure\",\"type\":\"Plot\"}},\"id\":\"16feecec-a247-4b5d-9a50-644d12e0b013\",\"type\":\"BoxZoomTool\"},{\"attributes\":{\"active_drag\":\"auto\",\"active_scroll\":\"auto\",\"active_tap\":\"auto\",\"tools\":[{\"id\":\"d0043ba5-c844-4a46-aec5-5fe587420b03\",\"type\":\"PanTool\"},{\"id\":\"8c09d5ae-dc94-4d2d-8616-88e60a16ac2e\",\"type\":\"WheelZoomTool\"},{\"id\":\"16feecec-a247-4b5d-9a50-644d12e0b013\",\"type\":\"BoxZoomTool\"},{\"id\":\"786b5584-2b33-4867-94dd-7672d9a2c484\",\"type\":\"SaveTool\"},{\"id\":\"5adc3e5f-cc74-4703-8b4b-9d4a339cb028\",\"type\":\"ResetTool\"},{\"id\":\"79025a53-7703-43c1-b5f0-3af1b577737c\",\"type\":\"HelpTool\"}]},\"id\":\"ccefa2a5-19e5-453a-b95d-a2c6e8b32b02\",\"type\":\"Toolbar\"},{\"attributes\":{\"plot\":{\"id\":\"e0aec04a-23a1-4092-865c-886b49bbacd5\",\"subtype\":\"Figure\",\"type\":\"Plot\"}},\"id\":\"8c09d5ae-dc94-4d2d-8616-88e60a16ac2e\",\"type\":\"WheelZoomTool\"},{\"attributes\":{\"fill_alpha\":{\"value\":0.5},\"fill_color\":{\"value\":\"firebrick\"},\"line_alpha\":{\"value\":0.5},\"line_color\":{\"value\":\"firebrick\"},\"size\":{\"units\":\"screen\",\"value\":7},\"x\":{\"field\":\"x\"},\"y\":{\"field\":\"y\"}},\"id\":\"5462c110-97d7-4e57-b053-13bddacd3b0d\",\"type\":\"Circle\"},{\"attributes\":{\"fill_alpha\":{\"value\":0.1},\"fill_color\":{\"value\":\"#1f77b4\"},\"line_alpha\":{\"value\":0.1},\"line_color\":{\"value\":\"#1f77b4\"},\"size\":{\"units\":\"screen\",\"value\":7},\"x\":{\"field\":\"x\"},\"y\":{\"field\":\"y\"}},\"id\":\"c61e3361-622b-4606-82e9-d569cd20f4f9\",\"type\":\"Circle\"},{\"attributes\":{\"callback\":null},\"id\":\"8e7e85eb-154c-4fa0-a8cd-76f1855e94a7\",\"type\":\"DataRange1d\"},{\"attributes\":{},\"id\":\"896afac9-61b8-41df-9793-f2931924e896\",\"type\":\"BasicTicker\"},{\"attributes\":{\"formatter\":{\"id\":\"972b55c1-76f1-43de-8eb8-0cd7b8f9bd68\",\"type\":\"BasicTickFormatter\"},\"plot\":{\"id\":\"e0aec04a-23a1-4092-865c-886b49bbacd5\",\"subtype\":\"Figure\",\"type\":\"Plot\"},\"ticker\":{\"id\":\"dc938bd2-195d-46c1-bd21-591dacf63f00\",\"type\":\"BasicTicker\"}},\"id\":\"4a3405c1-acc3-4334-97e1-1c5608ff3bf2\",\"type\":\"LinearAxis\"},{\"attributes\":{\"dimension\":1,\"plot\":{\"id\":\"e0aec04a-23a1-4092-865c-886b49bbacd5\",\"subtype\":\"Figure\",\"type\":\"Plot\"},\"ticker\":{\"id\":\"dc938bd2-195d-46c1-bd21-591dacf63f00\",\"type\":\"BasicTicker\"}},\"id\":\"082bf5e8-7a20-4f0f-a2c3-2c276cf491bb\",\"type\":\"Grid\"},{\"attributes\":{\"data_source\":{\"id\":\"258c40a5-3beb-468c-8e35-3aeaae7782d8\",\"type\":\"ColumnDataSource\"},\"glyph\":{\"id\":\"5462c110-97d7-4e57-b053-13bddacd3b0d\",\"type\":\"Circle\"},\"hover_glyph\":null,\"nonselection_glyph\":{\"id\":\"c61e3361-622b-4606-82e9-d569cd20f4f9\",\"type\":\"Circle\"},\"selection_glyph\":null},\"id\":\"1a5908c4-8d84-4979-bd9e-28b483b7eece\",\"type\":\"GlyphRenderer\"},{\"attributes\":{\"callback\":null,\"column_names\":[\"y\",\"x\"],\"data\":{\"x\":[-6.0,-5.878787878787879,-5.757575757575758,-5.636363636363637,-5.515151515151516,-5.393939393939394,-5.2727272727272725,-5.151515151515151,-5.03030303030303,-4.909090909090909,-4.787878787878788,-4.666666666666666,-4.545454545454545,-4.424242424242424,-4.303030303030303,-4.181818181818182,-4.0606060606060606,-3.9393939393939394,-3.8181818181818183,-3.696969696969697,-3.5757575757575757,-3.4545454545454546,-3.333333333333333,-3.212121212121212,-3.090909090909091,-2.9696969696969697,-2.8484848484848486,-2.727272727272727,-2.606060606060606,-2.484848484848485,-2.3636363636363633,-2.242424242424242,-2.121212121212121,-2.0,-1.878787878787879,-1.7575757575757578,-1.6363636363636367,-1.5151515151515147,-1.3939393939393936,-1.2727272727272725,-1.1515151515151514,-1.0303030303030303,-0.9090909090909092,-0.7878787878787881,-0.6666666666666661,-0.545454545454545,-0.42424242424242387,-0.30303030303030276,-0.18181818181818166,-0.06060606060606055,0.06060606060606055,0.18181818181818166,0.30303030303030276,0.42424242424242475,0.5454545454545459,0.666666666666667,0.7878787878787881,0.9090909090909092,1.0303030303030303,1.1515151515151514,1.2727272727272734,1.3939393939393945,1.5151515151515156,1.6363636363636367,1.7575757575757578,1.878787878787879,2.0,2.121212121212121,2.242424242424242,2.3636363636363633,2.4848484848484844,2.6060606060606055,2.7272727272727266,2.8484848484848495,2.9696969696969706,3.0909090909090917,3.212121212121213,3.333333333333334,3.454545454545455,3.575757575757576,3.6969696969696972,3.8181818181818183,3.9393939393939394,4.0606060606060606,4.181818181818182,4.303030303030303,4.424242424242424,4.545454545454545,4.666666666666668,4.787878787878789,4.90909090909091,5.030303030303031,5.151515151515152,5.272727272727273,5.3939393939393945,5.515151515151516,5.636363636363637,5.757575757575758,5.878787878787879,6.0],\"y\":[0.960170286650366,0.9193396548099325,0.865018266697566,0.7980032559988883,0.7192780276732816,0.6299978270778193,0.5314727874367585,0.42514870442477243,0.3125858199853547,0.19543592671908872,0.07541812882111003,-0.04570638473858134,-0.16616018460355267,-0.2841756837372786,-0.39802107569934975,-0.5060257478629665,-0.6066047966500377,-0.69828228503756,-0.7797129010453654,-0.8497016993799634,-0.9072216365377284,-0.9514286420503495,-0.9816740047110791,-0.9975138920213652,-0.9987158631657161,-0.9852622799408088,-0.9573505655855105,-0.9153903077136358,-0.8599972478621625,-0.7919842458546638,-0.7123493515724919,-0.6222611591732922,-0.5230416586748752,-0.4161468365471424,-0.3031453099867001,-0.18569530840332882,-0.06552033990114371,0.05561610016580718,0.17593640742677327,0.2936749537688711,0.40710399686726717,0.5145590337642212,0.6144632264484673,0.7053505410042532,0.7858872607769484,0.854891557862458,0.9113508357206178,0.954436588420145,0.9835165584646712,0.9981640147910761,0.9981640147910761,0.9835165584646712,0.954436588420145,0.9113508357206175,0.8548915578624574,0.7858872607769478,0.7053505410042532,0.6144632264484673,0.5145590337642212,0.40710399686726717,0.29367495376887026,0.17593640742677238,0.055616100165806294,-0.06552033990114371,-0.18569530840332882,-0.3031453099867001,-0.4161468365471424,-0.5230416586748752,-0.6222611591732922,-0.7123493515724919,-0.7919842458546635,-0.8599972478621623,-0.9153903077136356,-0.9573505655855107,-0.9852622799408091,-0.9987158631657161,-0.9975138920213652,-0.9816740047110789,-0.9514286420503493,-0.9072216365377281,-0.8497016993799632,-0.7797129010453654,-0.69828228503756,-0.6066047966500377,-0.5060257478629665,-0.39802107569934975,-0.2841756837372786,-0.16616018460355267,-0.04570638473857956,0.07541812882111092,0.1954359267190896,0.3125858199853555,0.4251487044247732,0.5314727874367593,0.6299978270778199,0.7192780276732816,0.7980032559988883,0.865018266697566,0.9193396548099325,0.960170286650366]}},\"id\":\"258c40a5-3beb-468c-8e35-3aeaae7782d8\",\"type\":\"ColumnDataSource\"},{\"attributes\":{\"plot\":{\"id\":\"e0aec04a-23a1-4092-865c-886b49bbacd5\",\"subtype\":\"Figure\",\"type\":\"Plot\"}},\"id\":\"786b5584-2b33-4867-94dd-7672d9a2c484\",\"type\":\"SaveTool\"},{\"attributes\":{\"plot\":null,\"text\":null},\"id\":\"6e16dd0d-15cc-4d90-8923-28d6e09caa60\",\"type\":\"Title\"},{\"attributes\":{\"bottom_units\":\"screen\",\"fill_alpha\":{\"value\":0.5},\"fill_color\":{\"value\":\"lightgrey\"},\"left_units\":\"screen\",\"level\":\"overlay\",\"line_alpha\":{\"value\":1.0},\"line_color\":{\"value\":\"black\"},\"line_dash\":[4,4],\"line_width\":{\"value\":2},\"plot\":null,\"render_mode\":\"css\",\"right_units\":\"screen\",\"top_units\":\"screen\"},\"id\":\"7e9d5178-7560-485f-96c3-8a161160075c\",\"type\":\"BoxAnnotation\"},{\"attributes\":{\"callback\":null},\"id\":\"b64bb44d-bcba-4068-b3d9-95e865fd1167\",\"type\":\"DataRange1d\"},{\"attributes\":{\"plot\":{\"id\":\"e0aec04a-23a1-4092-865c-886b49bbacd5\",\"subtype\":\"Figure\",\"type\":\"Plot\"}},\"id\":\"5adc3e5f-cc74-4703-8b4b-9d4a339cb028\",\"type\":\"ResetTool\"},{\"attributes\":{\"plot\":{\"id\":\"e0aec04a-23a1-4092-865c-886b49bbacd5\",\"subtype\":\"Figure\",\"type\":\"Plot\"}},\"id\":\"d0043ba5-c844-4a46-aec5-5fe587420b03\",\"type\":\"PanTool\"},{\"attributes\":{\"plot\":{\"id\":\"e0aec04a-23a1-4092-865c-886b49bbacd5\",\"subtype\":\"Figure\",\"type\":\"Plot\"}},\"id\":\"79025a53-7703-43c1-b5f0-3af1b577737c\",\"type\":\"HelpTool\"},{\"attributes\":{\"plot\":{\"id\":\"e0aec04a-23a1-4092-865c-886b49bbacd5\",\"subtype\":\"Figure\",\"type\":\"Plot\"},\"ticker\":{\"id\":\"896afac9-61b8-41df-9793-f2931924e896\",\"type\":\"BasicTicker\"}},\"id\":\"eea42303-a68a-43ef-b44d-12c56d6813d1\",\"type\":\"Grid\"},{\"attributes\":{},\"id\":\"972b55c1-76f1-43de-8eb8-0cd7b8f9bd68\",\"type\":\"BasicTickFormatter\"},{\"attributes\":{},\"id\":\"dc938bd2-195d-46c1-bd21-591dacf63f00\",\"type\":\"BasicTicker\"},{\"attributes\":{},\"id\":\"16c09a1c-7eae-43d7-8c97-fe048814b1df\",\"type\":\"BasicTickFormatter\"},{\"attributes\":{\"below\":[{\"id\":\"a2badc31-3044-4fd3-b77c-b248dd6d99b0\",\"type\":\"LinearAxis\"}],\"left\":[{\"id\":\"4a3405c1-acc3-4334-97e1-1c5608ff3bf2\",\"type\":\"LinearAxis\"}],\"plot_height\":500,\"plot_width\":500,\"renderers\":[{\"id\":\"a2badc31-3044-4fd3-b77c-b248dd6d99b0\",\"type\":\"LinearAxis\"},{\"id\":\"eea42303-a68a-43ef-b44d-12c56d6813d1\",\"type\":\"Grid\"},{\"id\":\"4a3405c1-acc3-4334-97e1-1c5608ff3bf2\",\"type\":\"LinearAxis\"},{\"id\":\"082bf5e8-7a20-4f0f-a2c3-2c276cf491bb\",\"type\":\"Grid\"},{\"id\":\"7e9d5178-7560-485f-96c3-8a161160075c\",\"type\":\"BoxAnnotation\"},{\"id\":\"1a5908c4-8d84-4979-bd9e-28b483b7eece\",\"type\":\"GlyphRenderer\"}],\"title\":{\"id\":\"6e16dd0d-15cc-4d90-8923-28d6e09caa60\",\"type\":\"Title\"},\"tool_events\":{\"id\":\"32447b3b-10aa-4a4c-a397-1f5cb6d3e6d3\",\"type\":\"ToolEvents\"},\"toolbar\":{\"id\":\"ccefa2a5-19e5-453a-b95d-a2c6e8b32b02\",\"type\":\"Toolbar\"},\"x_range\":{\"id\":\"8e7e85eb-154c-4fa0-a8cd-76f1855e94a7\",\"type\":\"DataRange1d\"},\"y_range\":{\"id\":\"b64bb44d-bcba-4068-b3d9-95e865fd1167\",\"type\":\"DataRange1d\"}},\"id\":\"e0aec04a-23a1-4092-865c-886b49bbacd5\",\"subtype\":\"Figure\",\"type\":\"Plot\"},{\"attributes\":{},\"id\":\"32447b3b-10aa-4a4c-a397-1f5cb6d3e6d3\",\"type\":\"ToolEvents\"}],\"root_ids\":[\"e0aec04a-23a1-4092-865c-886b49bbacd5\"]},\"title\":\"Bokeh Application\",\"version\":\"0.12.0\"}};\n",
       "            var render_items = [{\"docid\":\"fd850ba6-0f99-4519-806c-5642b74ca63f\",\"elementid\":\"492f55b7-b8de-47cc-95df-e64143ce9191\",\"modelid\":\"e0aec04a-23a1-4092-865c-886b49bbacd5\",\"notebook_comms_target\":\"8c05a20f-001d-47b3-b09a-98852668221f\"}];\n",
       "            \n",
       "            Bokeh.embed.embed_items(docs_json, render_items);\n",
       "        });\n",
       "      },\n",
       "      function(Bokeh) {\n",
       "      }\n",
       "    ];\n",
       "  \n",
       "    function run_inline_js() {\n",
       "      for (var i = 0; i < inline_js.length; i++) {\n",
       "        inline_js[i](window.Bokeh);\n",
       "      }\n",
       "    }\n",
       "  \n",
       "    if (window._bokeh_is_loading === 0) {\n",
       "      console.log(\"Bokeh: BokehJS loaded, going straight to plotting\");\n",
       "      run_inline_js();\n",
       "    } else {\n",
       "      load_libs(js_urls, function() {\n",
       "        console.log(\"Bokeh: BokehJS plotting callback run at\", now());\n",
       "        run_inline_js();\n",
       "      });\n",
       "    }\n",
       "  }(this));\n",
       "</script>"
      ]
     },
     "metadata": {},
     "output_type": "display_data"
    },
    {
     "data": {
      "text/html": [
       "<p><code>&lt;Bokeh Notebook handle for <strong>In[6]</strong>&gt;</code></p>"
      ],
      "text/plain": [
       "<bokeh.io._CommsHandle at 0x7f166fa5fd68>"
      ]
     },
     "execution_count": 6,
     "metadata": {},
     "output_type": "execute_result"
    }
   ],
   "source": [
    "p = figure(width=500, height=500)\n",
    "p.circle(x, y, size=7, color=\"firebrick\", alpha=0.5)\n",
    "show(p)"
   ]
  },
  {
   "cell_type": "code",
   "execution_count": null,
   "metadata": {
    "collapsed": true
   },
   "outputs": [],
   "source": []
  }
 ],
 "metadata": {
  "anaconda-cloud": {},
  "kernelspec": {
   "display_name": "Python [Root]",
   "language": "python",
   "name": "Python [Root]"
  },
  "language_info": {
   "codemirror_mode": {
    "name": "ipython",
    "version": 3
   },
   "file_extension": ".py",
   "mimetype": "text/x-python",
   "name": "python",
   "nbconvert_exporter": "python",
   "pygments_lexer": "ipython3",
   "version": "3.5.2"
  }
 },
 "nbformat": 4,
 "nbformat_minor": 0
}
